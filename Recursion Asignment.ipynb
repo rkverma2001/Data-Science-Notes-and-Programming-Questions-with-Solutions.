{
 "cells": [
  {
   "cell_type": "markdown",
   "id": "ab109b13",
   "metadata": {},
   "source": [
    "### Geometric Sum"
   ]
  },
  {
   "cell_type": "code",
   "execution_count": 3,
   "id": "2c8194ee",
   "metadata": {},
   "outputs": [],
   "source": [
    "def geometricSum(n):\n",
    "    \n",
    "    sum = 1\n",
    "    if n==0:\n",
    "        return 1\n",
    "    smallOutput = 1/2*geometricSum(n-1)\n",
    "    sum = sum + smallOutput\n",
    "    return sum\n",
    "    "
   ]
  },
  {
   "cell_type": "code",
   "execution_count": 12,
   "id": "8a0ccbaf",
   "metadata": {},
   "outputs": [
    {
     "name": "stdout",
     "output_type": "stream",
     "text": [
      "Enter the number: 4\n",
      "1.93750\n"
     ]
    }
   ],
   "source": [
    "n = int(input(\"Enter the number: \"))\n",
    "a = geometricSum(n)\n",
    "print(\"{0:.5f}\".format(a))"
   ]
  },
  {
   "cell_type": "markdown",
   "id": "78588a54",
   "metadata": {},
   "source": [
    "### Check Palindrome (recursive)"
   ]
  },
  {
   "cell_type": "code",
   "execution_count": 1,
   "id": "95d5af7c",
   "metadata": {},
   "outputs": [],
   "source": [
    "def palindrome(str, s, e):\n",
    "    if s >= e:\n",
    "        return True\n",
    "    if str[s] != str[e]:\n",
    "        return False\n",
    "    return palindrome(str, s+1, e-1)"
   ]
  },
  {
   "cell_type": "code",
   "execution_count": 3,
   "id": "d8c1f971",
   "metadata": {},
   "outputs": [
    {
     "data": {
      "text/plain": [
       "False"
      ]
     },
     "execution_count": 3,
     "metadata": {},
     "output_type": "execute_result"
    }
   ],
   "source": [
    "str = \"raceca\"\n",
    "palindrome(str, 0, len(str)-1)"
   ]
  },
  {
   "cell_type": "markdown",
   "id": "ab420d5e",
   "metadata": {},
   "source": [
    "### Sum of digits (recursive)"
   ]
  },
  {
   "cell_type": "code",
   "execution_count": 4,
   "id": "f5506df6",
   "metadata": {},
   "outputs": [],
   "source": [
    "def sumOfDigits(n):\n",
    "    if n==0:\n",
    "        return 0\n",
    "    return n%10 + sumOfDigits(n//10)\n"
   ]
  },
  {
   "cell_type": "code",
   "execution_count": 5,
   "id": "4a34d101",
   "metadata": {},
   "outputs": [
    {
     "data": {
      "text/plain": [
       "15"
      ]
     },
     "execution_count": 5,
     "metadata": {},
     "output_type": "execute_result"
    }
   ],
   "source": [
    "sumOfDigits(12345)"
   ]
  },
  {
   "cell_type": "markdown",
   "id": "c67c5589",
   "metadata": {},
   "source": [
    "### Multiplication (Recursive)"
   ]
  },
  {
   "cell_type": "code",
   "execution_count": 8,
   "id": "862dab12",
   "metadata": {},
   "outputs": [],
   "source": [
    "def multiplyUsingAddition(n, m):\n",
    "    if m == 0:\n",
    "        return 0\n",
    "    return n + multiplyUsingAddition(n, m-1)\n"
   ]
  },
  {
   "cell_type": "code",
   "execution_count": 10,
   "id": "05cb5902",
   "metadata": {},
   "outputs": [
    {
     "data": {
      "text/plain": [
       "0"
      ]
     },
     "execution_count": 10,
     "metadata": {},
     "output_type": "execute_result"
    }
   ],
   "source": [
    "multiplyUsingAddition(4, 0)"
   ]
  },
  {
   "cell_type": "markdown",
   "id": "a1dcf43a",
   "metadata": {},
   "source": [
    "### Count Zeros"
   ]
  },
  {
   "cell_type": "code",
   "execution_count": 25,
   "id": "75a13fc3",
   "metadata": {},
   "outputs": [],
   "source": [
    "def countZeros(n):\n",
    "    if n == 0:\n",
    "        return 0\n",
    "    \n",
    "    if n%10 == 0:\n",
    "        return 1 + countZeros(n//10)\n",
    "    else:\n",
    "        return 0 + countZeros(n//10)\n",
    "    \n",
    "    return countZeros(n//10)"
   ]
  },
  {
   "cell_type": "code",
   "execution_count": 26,
   "id": "a9d62eb5",
   "metadata": {},
   "outputs": [
    {
     "data": {
      "text/plain": [
       "4"
      ]
     },
     "execution_count": 26,
     "metadata": {},
     "output_type": "execute_result"
    }
   ],
   "source": [
    "countZeros(708000)"
   ]
  },
  {
   "cell_type": "markdown",
   "id": "a255b85a",
   "metadata": {},
   "source": [
    "### String to Integer"
   ]
  },
  {
   "cell_type": "code",
   "execution_count": 3,
   "id": "3efe9c87",
   "metadata": {},
   "outputs": [],
   "source": [
    "def stringToInt(str):\n",
    "    \n",
    "    if (len(str) == 1):\n",
    "        return ord(str[0]) - ord('0')\n",
    "    \n",
    "    y = stringToInt(str[1:])\n",
    " \n",
    "\n",
    "    x = ord(str[0]) - ord('0')\n",
    "    \n",
    "    x = x * (10**(len(str) - 1)) + y\n",
    "    return x"
   ]
  },
  {
   "cell_type": "code",
   "execution_count": 4,
   "id": "ee836dd7",
   "metadata": {},
   "outputs": [
    {
     "data": {
      "text/plain": [
       "1231"
      ]
     },
     "execution_count": 4,
     "metadata": {},
     "output_type": "execute_result"
    }
   ],
   "source": [
    "stringToInt(\"00001231\")"
   ]
  },
  {
   "cell_type": "markdown",
   "id": "ff823f2d",
   "metadata": {},
   "source": [
    "### Pair star"
   ]
  },
  {
   "cell_type": "code",
   "execution_count": 16,
   "id": "5f0cd351",
   "metadata": {},
   "outputs": [],
   "source": [
    "def pairStars(str):\n",
    "    l = len(str)\n",
    "    if l<=1:\n",
    "        return str\n",
    "    if str[0] == str[1]:\n",
    "        return str[0] + \"*\" + pairStars(str[1:])\n",
    "    else:\n",
    "        return str[0] + pairStars(str[1:])"
   ]
  },
  {
   "cell_type": "code",
   "execution_count": 18,
   "id": "6968f9a6",
   "metadata": {},
   "outputs": [
    {
     "data": {
      "text/plain": [
       "'mis*sipis*si'"
      ]
     },
     "execution_count": 18,
     "metadata": {},
     "output_type": "execute_result"
    }
   ],
   "source": [
    "pairStars(\"missipissi\")"
   ]
  },
  {
   "cell_type": "markdown",
   "id": "9d67b9b6",
   "metadata": {},
   "source": [
    "### Check AB"
   ]
  },
  {
   "cell_type": "code",
   "execution_count": 27,
   "id": "e35f3ac4",
   "metadata": {},
   "outputs": [],
   "source": [
    "def checkAb(str):\n",
    "    l = len(str)\n",
    "    if l==0:\n",
    "        return True\n",
    "    elif str[0] != 'a':\n",
    "        return False\n",
    "    elif l>1 and str[1]=='a':\n",
    "        return checkAb(str[1:])\n",
    "    elif l>2 and str[1:3]=='bb':\n",
    "        return checkAb(str[3:])\n",
    "    else:\n",
    "        return False "
   ]
  },
  {
   "cell_type": "code",
   "execution_count": 28,
   "id": "618c8a5a",
   "metadata": {},
   "outputs": [
    {
     "data": {
      "text/plain": [
       "False"
      ]
     },
     "execution_count": 28,
     "metadata": {},
     "output_type": "execute_result"
    }
   ],
   "source": [
    "checkAb(\"abababa\")"
   ]
  },
  {
   "cell_type": "markdown",
   "id": "12ebae5b",
   "metadata": {},
   "source": [
    "### Stair Case"
   ]
  },
  {
   "cell_type": "code",
   "execution_count": 29,
   "id": "ea6741da",
   "metadata": {},
   "outputs": [],
   "source": [
    "def stairCase(n):\n",
    "    if n == 0:\n",
    "        return 1\n",
    "    elif n < 0:\n",
    "        return 0\n",
    "    else:\n",
    "        return stairCase(n-1) + stairCase(n-2) + stairCase(n-3)\n"
   ]
  },
  {
   "cell_type": "code",
   "execution_count": 31,
   "id": "7d409939",
   "metadata": {},
   "outputs": [
    {
     "data": {
      "text/plain": [
       "13"
      ]
     },
     "execution_count": 31,
     "metadata": {},
     "output_type": "execute_result"
    }
   ],
   "source": [
    "stairCase(5)"
   ]
  },
  {
   "cell_type": "code",
   "execution_count": null,
   "id": "922a8d66",
   "metadata": {},
   "outputs": [],
   "source": []
  }
 ],
 "metadata": {
  "kernelspec": {
   "display_name": "Python 3 (ipykernel)",
   "language": "python",
   "name": "python3"
  },
  "language_info": {
   "codemirror_mode": {
    "name": "ipython",
    "version": 3
   },
   "file_extension": ".py",
   "mimetype": "text/x-python",
   "name": "python",
   "nbconvert_exporter": "python",
   "pygments_lexer": "ipython3",
   "version": "3.9.13"
  }
 },
 "nbformat": 4,
 "nbformat_minor": 5
}
