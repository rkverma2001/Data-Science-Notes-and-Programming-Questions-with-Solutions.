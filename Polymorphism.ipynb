{
 "cells": [
  {
   "cell_type": "code",
   "execution_count": 1,
   "id": "abd8170d",
   "metadata": {},
   "outputs": [],
   "source": [
    "def test(a, b):\n",
    "    return a+b"
   ]
  },
  {
   "cell_type": "code",
   "execution_count": 2,
   "id": "051a1805",
   "metadata": {},
   "outputs": [
    {
     "data": {
      "text/plain": [
       "9"
      ]
     },
     "execution_count": 2,
     "metadata": {},
     "output_type": "execute_result"
    }
   ],
   "source": [
    "test(4, 5)"
   ]
  },
  {
   "cell_type": "code",
   "execution_count": 3,
   "id": "5bef5bad",
   "metadata": {},
   "outputs": [
    {
     "data": {
      "text/plain": [
       "'riteshkumar'"
      ]
     },
     "execution_count": 3,
     "metadata": {},
     "output_type": "execute_result"
    }
   ],
   "source": [
    "test(\"ritesh\", \"kumar\")"
   ]
  },
  {
   "cell_type": "code",
   "execution_count": 4,
   "id": "774dbb08",
   "metadata": {},
   "outputs": [],
   "source": [
    "class data_science:\n",
    "    def syllabus(self):\n",
    "        print(\"This is my method for data science syllabus\")"
   ]
  },
  {
   "cell_type": "code",
   "execution_count": 5,
   "id": "0d36bf30",
   "metadata": {},
   "outputs": [],
   "source": [
    "class web_dev:\n",
    "    def syllabus(self):\n",
    "        print(\"This is my method for web dev\")"
   ]
  },
  {
   "cell_type": "code",
   "execution_count": 6,
   "id": "9ce85f58",
   "metadata": {},
   "outputs": [],
   "source": [
    "def class_partner(class_obj):\n",
    "    for i in class_obj:\n",
    "        i.syllabus()"
   ]
  },
  {
   "cell_type": "code",
   "execution_count": 8,
   "id": "f7c80f16",
   "metadata": {},
   "outputs": [],
   "source": [
    "obj_data_science = data_science()"
   ]
  },
  {
   "cell_type": "code",
   "execution_count": 9,
   "id": "094cfdcc",
   "metadata": {},
   "outputs": [],
   "source": [
    "obj_web_dev = web_dev()"
   ]
  },
  {
   "cell_type": "code",
   "execution_count": 10,
   "id": "98f3402e",
   "metadata": {},
   "outputs": [],
   "source": [
    "class_obj = [obj_data_science, obj_web_dev]"
   ]
  },
  {
   "cell_type": "code",
   "execution_count": 11,
   "id": "c382ede1",
   "metadata": {},
   "outputs": [
    {
     "name": "stdout",
     "output_type": "stream",
     "text": [
      "This is my method for data science syllabus\n",
      "This is my method for web dev\n"
     ]
    }
   ],
   "source": [
    "class_partner(class_obj)"
   ]
  },
  {
   "cell_type": "code",
   "execution_count": null,
   "id": "ab808049",
   "metadata": {},
   "outputs": [],
   "source": []
  }
 ],
 "metadata": {
  "kernelspec": {
   "display_name": "Python 3 (ipykernel)",
   "language": "python",
   "name": "python3"
  },
  "language_info": {
   "codemirror_mode": {
    "name": "ipython",
    "version": 3
   },
   "file_extension": ".py",
   "mimetype": "text/x-python",
   "name": "python",
   "nbconvert_exporter": "python",
   "pygments_lexer": "ipython3",
   "version": "3.9.13"
  }
 },
 "nbformat": 4,
 "nbformat_minor": 5
}
