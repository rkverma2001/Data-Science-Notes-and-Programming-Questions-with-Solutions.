{
 "cells": [
  {
   "cell_type": "code",
   "execution_count": 1,
   "id": "198a79d1",
   "metadata": {},
   "outputs": [],
   "source": [
    "def power(x, n):\n",
    "    if n==0:\n",
    "        return 1\n",
    "    return x*power(x, n-1)\n"
   ]
  },
  {
   "cell_type": "code",
   "execution_count": 2,
   "id": "5c9986b7",
   "metadata": {},
   "outputs": [
    {
     "name": "stdout",
     "output_type": "stream",
     "text": [
      "2\n",
      "4\n",
      "16\n"
     ]
    }
   ],
   "source": [
    "x = int(input())\n",
    "n = int(input())\n",
    "print(power(x, n))"
   ]
  },
  {
   "cell_type": "code",
   "execution_count": 2,
   "id": "e7841326",
   "metadata": {},
   "outputs": [],
   "source": [
    "def fib(n):\n",
    "    if n == 1 or n == 2:\n",
    "        return 1\n",
    "    return fib(n-1) + fib(n-2)"
   ]
  },
  {
   "cell_type": "markdown",
   "id": "8473deb8",
   "metadata": {},
   "source": [
    "If we want to increase the recursion limit the we import the library called sys."
   ]
  },
  {
   "cell_type": "code",
   "execution_count": 1,
   "id": "5e03552b",
   "metadata": {},
   "outputs": [],
   "source": [
    "import sys\n",
    "sys.setrecursionlimit(3000)"
   ]
  },
  {
   "cell_type": "code",
   "execution_count": 3,
   "id": "977171b9",
   "metadata": {},
   "outputs": [
    {
     "ename": "NameError",
     "evalue": "name 'fib' is not defined",
     "output_type": "error",
     "traceback": [
      "\u001b[1;31m---------------------------------------------------------------------------\u001b[0m",
      "\u001b[1;31mNameError\u001b[0m                                 Traceback (most recent call last)",
      "\u001b[1;32m~\\AppData\\Local\\Temp\\ipykernel_27512\\3813824289.py\u001b[0m in \u001b[0;36m<module>\u001b[1;34m\u001b[0m\n\u001b[1;32m----> 1\u001b[1;33m \u001b[0mfib\u001b[0m\u001b[1;33m(\u001b[0m\u001b[1;36m2000\u001b[0m\u001b[1;33m)\u001b[0m\u001b[1;33m\u001b[0m\u001b[1;33m\u001b[0m\u001b[0m\n\u001b[0m",
      "\u001b[1;31mNameError\u001b[0m: name 'fib' is not defined"
     ]
    }
   ],
   "source": [
    "fib(2000)"
   ]
  },
  {
   "cell_type": "markdown",
   "id": "e7524774",
   "metadata": {},
   "source": [
    "### Program to check whether a list is sorted or not using Recursion."
   ]
  },
  {
   "cell_type": "code",
   "execution_count": 8,
   "id": "a4a32abe",
   "metadata": {},
   "outputs": [],
   "source": [
    "def isSorted(a):\n",
    "    l = len(a)\n",
    "    if l==0 or l==1:\n",
    "        return True\n",
    "    if a[0] > a[1]:\n",
    "        return False\n",
    "    smallerList = a[1:]\n",
    "    return isSorted(smallerList)\n",
    "    "
   ]
  },
  {
   "cell_type": "code",
   "execution_count": 10,
   "id": "fe9270a7",
   "metadata": {},
   "outputs": [
    {
     "data": {
      "text/plain": [
       "False"
      ]
     },
     "execution_count": 10,
     "metadata": {},
     "output_type": "execute_result"
    }
   ],
   "source": [
    "a = [1, 2, 3, 40, 5]\n",
    "isSorted(a)"
   ]
  },
  {
   "cell_type": "markdown",
   "id": "62a60880",
   "metadata": {},
   "source": [
    "### Sum Of Array"
   ]
  },
  {
   "cell_type": "code",
   "execution_count": 1,
   "id": "0f8493e2",
   "metadata": {},
   "outputs": [],
   "source": [
    "def sumOfArray(a):\n",
    "    l = len(a)\n",
    "    sum = 0\n",
    "    if l==0:\n",
    "        sum = 0\n",
    "        return sum\n",
    "\n",
    "    smallerList = sumOfArray(a[1:])\n",
    "    sum = sum + a[0] + smallerList\n",
    "    return sum"
   ]
  },
  {
   "cell_type": "code",
   "execution_count": 4,
   "id": "e1eb9f7e",
   "metadata": {},
   "outputs": [
    {
     "data": {
      "text/plain": [
       "7"
      ]
     },
     "execution_count": 4,
     "metadata": {},
     "output_type": "execute_result"
    }
   ],
   "source": [
    "a = [4, 2, 1]\n",
    "sumOfArray(a)"
   ]
  },
  {
   "cell_type": "markdown",
   "id": "476d51ef",
   "metadata": {},
   "source": [
    " ### Check Number in Array"
   ]
  },
  {
   "cell_type": "code",
   "execution_count": null,
   "id": "5e78ad86",
   "metadata": {},
   "outputs": [],
   "source": [
    "def checkNumber(a):\n",
    "    l = len"
   ]
  }
 ],
 "metadata": {
  "kernelspec": {
   "display_name": "Python 3 (ipykernel)",
   "language": "python",
   "name": "python3"
  },
  "language_info": {
   "codemirror_mode": {
    "name": "ipython",
    "version": 3
   },
   "file_extension": ".py",
   "mimetype": "text/x-python",
   "name": "python",
   "nbconvert_exporter": "python",
   "pygments_lexer": "ipython3",
   "version": "3.9.13"
  }
 },
 "nbformat": 4,
 "nbformat_minor": 5
}
