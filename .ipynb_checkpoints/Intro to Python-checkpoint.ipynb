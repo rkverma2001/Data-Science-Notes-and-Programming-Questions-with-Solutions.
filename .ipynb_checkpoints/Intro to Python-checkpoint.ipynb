{
 "cells": [
  {
   "cell_type": "code",
   "execution_count": 1,
   "id": "b87c93c8",
   "metadata": {},
   "outputs": [
    {
     "name": "stdout",
     "output_type": "stream",
     "text": [
      "10\n"
     ]
    }
   ],
   "source": [
    "a=10\n",
    "print(a)"
   ]
  },
  {
   "cell_type": "markdown",
   "id": "46b77039",
   "metadata": {},
   "source": [
    "## IF ELIF"
   ]
  },
  {
   "cell_type": "code",
   "execution_count": 3,
   "id": "2235d001",
   "metadata": {},
   "outputs": [
    {
     "name": "stdout",
     "output_type": "stream",
     "text": [
      "0\n",
      "0\n"
     ]
    }
   ],
   "source": [
    "a = int(input())\n",
    "if a>0:\n",
    "    print(\"Positive\")\n",
    "elif a==0:\n",
    "    print(\"0\")\n",
    "else:\n",
    "    print(\"Negative\")\n"
   ]
  },
  {
   "cell_type": "code",
   "execution_count": 5,
   "id": "99a5108c",
   "metadata": {},
   "outputs": [
    {
     "name": "stdout",
     "output_type": "stream",
     "text": [
      "10\n",
      "55\n"
     ]
    }
   ],
   "source": [
    "n = int(input())\n",
    "sum =0\n",
    "i =1\n",
    "while(i<=n):\n",
    "    sum = sum+i\n",
    "    i=i+1\n",
    "print(sum)"
   ]
  },
  {
   "cell_type": "code",
   "execution_count": null,
   "id": "c9457173",
   "metadata": {},
   "outputs": [],
   "source": []
  },
  {
   "cell_type": "markdown",
   "id": "d848a78d",
   "metadata": {},
   "source": [
    "### Sum of even numbers\n"
   ]
  },
  {
   "cell_type": "code",
   "execution_count": null,
   "id": "7ff9bae9",
   "metadata": {},
   "outputs": [],
   "source": [
    "n = int(input())\n",
    "sum =0\n",
    "i =0\n",
    "while(i<=n):\n",
    "    sum = sum+i\n",
    "    i=i+2\n",
    "print(sum)"
   ]
  },
  {
   "cell_type": "markdown",
   "id": "11ffc971",
   "metadata": {},
   "source": [
    "### Fahrenheit to Celsius"
   ]
  },
  {
   "cell_type": "code",
   "execution_count": 5,
   "id": "7ce93e5e",
   "metadata": {},
   "outputs": [
    {
     "name": "stdout",
     "output_type": "stream",
     "text": [
      "20\n",
      "119\n",
      "13\n",
      "-6\n",
      "0\n",
      "7\n",
      "15\n",
      "22\n",
      "29\n",
      "36\n",
      "43\n"
     ]
    }
   ],
   "source": [
    "s = int(input())\n",
    "e = int(input())\n",
    "w = int(input())\n",
    "\n",
    "i=s\n",
    "while i<=e:\n",
    "    c = (i-32)*5/9\n",
    "    print(int(c))\n",
    "    i=i+w\n",
    "    "
   ]
  },
  {
   "cell_type": "markdown",
   "id": "4ac4a3f3",
   "metadata": {},
   "source": [
    "### Calculator"
   ]
  },
  {
   "cell_type": "code",
   "execution_count": 4,
   "id": "aa1bbd1a",
   "metadata": {},
   "outputs": [
    {
     "name": "stdout",
     "output_type": "stream",
     "text": [
      "3\n",
      "1\n",
      "2\n",
      "2\n",
      "4\n",
      "4\n",
      "2\n",
      "2\n",
      "1\n",
      "3\n",
      "2\n",
      "5\n",
      "7\n",
      "Invalid Operation\n",
      "6\n",
      "6\n",
      "66\n",
      "Invalid Operation\n",
      "6\n",
      "1\n",
      "\n"
     ]
    },
    {
     "ename": "ValueError",
     "evalue": "invalid literal for int() with base 10: ''",
     "output_type": "error",
     "traceback": [
      "\u001b[1;31m---------------------------------------------------------------------------\u001b[0m",
      "\u001b[1;31mValueError\u001b[0m                                Traceback (most recent call last)",
      "\u001b[1;32m~\\AppData\\Local\\Temp\\ipykernel_22272\\3407022844.py\u001b[0m in \u001b[0;36m<module>\u001b[1;34m\u001b[0m\n\u001b[0;32m      2\u001b[0m     \u001b[0mi\u001b[0m \u001b[1;33m=\u001b[0m \u001b[0mint\u001b[0m\u001b[1;33m(\u001b[0m\u001b[0minput\u001b[0m\u001b[1;33m(\u001b[0m\u001b[1;33m)\u001b[0m\u001b[1;33m)\u001b[0m\u001b[1;33m\u001b[0m\u001b[1;33m\u001b[0m\u001b[0m\n\u001b[0;32m      3\u001b[0m     \u001b[1;32mif\u001b[0m\u001b[1;33m(\u001b[0m\u001b[0mi\u001b[0m \u001b[1;33m==\u001b[0m \u001b[1;36m1\u001b[0m\u001b[1;33m)\u001b[0m\u001b[1;33m:\u001b[0m\u001b[1;33m\u001b[0m\u001b[1;33m\u001b[0m\u001b[0m\n\u001b[1;32m----> 4\u001b[1;33m         \u001b[0ma\u001b[0m \u001b[1;33m=\u001b[0m \u001b[0mint\u001b[0m\u001b[1;33m(\u001b[0m\u001b[0minput\u001b[0m\u001b[1;33m(\u001b[0m\u001b[1;33m)\u001b[0m\u001b[1;33m)\u001b[0m\u001b[1;33m\u001b[0m\u001b[1;33m\u001b[0m\u001b[0m\n\u001b[0m\u001b[0;32m      5\u001b[0m         \u001b[0mb\u001b[0m \u001b[1;33m=\u001b[0m \u001b[0mint\u001b[0m\u001b[1;33m(\u001b[0m\u001b[0minput\u001b[0m\u001b[1;33m(\u001b[0m\u001b[1;33m)\u001b[0m\u001b[1;33m)\u001b[0m\u001b[1;33m\u001b[0m\u001b[1;33m\u001b[0m\u001b[0m\n\u001b[0;32m      6\u001b[0m         \u001b[0mc\u001b[0m \u001b[1;33m=\u001b[0m \u001b[0ma\u001b[0m\u001b[1;33m+\u001b[0m\u001b[0mb\u001b[0m\u001b[1;33m\u001b[0m\u001b[1;33m\u001b[0m\u001b[0m\n",
      "\u001b[1;31mValueError\u001b[0m: invalid literal for int() with base 10: ''"
     ]
    }
   ],
   "source": [
    "while True:\n",
    "    i = int(input())\n",
    "    if(i == 1):\n",
    "        a = int(input())\n",
    "        b = int(input())\n",
    "        c = a+b\n",
    "        print(c)\n",
    "    elif(i == 2):\n",
    "        a = int(input())\n",
    "        b = int(input())\n",
    "        c = a-b\n",
    "        print(c)\n",
    "    elif(i == 3):\n",
    "        a = int(input())\n",
    "        b = int(input())\n",
    "        c = a*b\n",
    "        print(c)\n",
    "    elif(i == 4):\n",
    "        a = int(input())\n",
    "        b = int(input())\n",
    "        c = a/b\n",
    "        print(int(c))\n",
    "    elif(i == 5):\n",
    "        a = int(input())\n",
    "        b = int(input())\n",
    "        c = a//b\n",
    "        print(int(c))\n",
    "    elif(i == 6):\n",
    "        quit()\n",
    "    else:\n",
    "        print(\"Invalid Operation\")"
   ]
  },
  {
   "cell_type": "markdown",
   "id": "fa67c404",
   "metadata": {},
   "source": [
    "# Reverse of a number"
   ]
  },
  {
   "cell_type": "code",
   "execution_count": 10,
   "id": "0dac298d",
   "metadata": {},
   "outputs": [
    {
     "name": "stdout",
     "output_type": "stream",
     "text": [
      "1234\n",
      "4321\n"
     ]
    }
   ],
   "source": [
    "n =int(input())\n",
    "i =n\n",
    "sum =0\n",
    "while n!=0:\n",
    "    a=n%10\n",
    "    sum = (sum*10)+a\n",
    "    n=n//10\n",
    "print(sum)\n"
   ]
  },
  {
   "cell_type": "markdown",
   "id": "80d27129",
   "metadata": {},
   "source": [
    "# Palindrome"
   ]
  },
  {
   "cell_type": "code",
   "execution_count": 34,
   "id": "a16c67a4",
   "metadata": {},
   "outputs": [
    {
     "name": "stdout",
     "output_type": "stream",
     "text": [
      "124\n",
      "Not\n"
     ]
    }
   ],
   "source": [
    "n =int(input())\n",
    "temp = n\n",
    "i =n\n",
    "sum =0\n",
    "a=0\n",
    "while n!=0:\n",
    "    a=n%10\n",
    "    sum = (sum*10)+a\n",
    "    n=n//10\n",
    "if temp==sum:\n",
    "    print(\"Yes\")\n",
    "else:\n",
    "    print(\"Not\")"
   ]
  },
  {
   "cell_type": "markdown",
   "id": "e4b4a1dd",
   "metadata": {},
   "source": [
    "# Sum of even and odd "
   ]
  },
  {
   "cell_type": "code",
   "execution_count": 41,
   "id": "d6966b77",
   "metadata": {},
   "outputs": [
    {
     "name": "stdout",
     "output_type": "stream",
     "text": [
      "552245\n",
      "8 15\n"
     ]
    }
   ],
   "source": [
    "n =int(input())\n",
    "i =n\n",
    "sum =0\n",
    "oddsum=0\n",
    "while n!=0:\n",
    "    a=n%10\n",
    "    if a%2==0:\n",
    "        sum = sum + a\n",
    "    else:\n",
    "        oddsum=oddsum +a\n",
    "    n=n//10\n",
    "print(sum, oddsum)"
   ]
  },
  {
   "cell_type": "markdown",
   "id": "19564020",
   "metadata": {},
   "source": [
    "### Fibonacci"
   ]
  },
  {
   "cell_type": "code",
   "execution_count": 33,
   "id": "e6d41091",
   "metadata": {},
   "outputs": [
    {
     "name": "stdout",
     "output_type": "stream",
     "text": [
      "8\n",
      "21\n"
     ]
    }
   ],
   "source": [
    "n = int(input())\n",
    "a=1\n",
    "b=1\n",
    "if n==1:\n",
    "    c=1\n",
    "    print(c)\n",
    "else:\n",
    "    i=2\n",
    "    while i<=n:\n",
    "        c=a+b\n",
    "        a=b\n",
    "        b=c\n",
    "        i=i+1\n",
    "        if i==n:\n",
    "            print(c)"
   ]
  },
  {
   "cell_type": "markdown",
   "id": "93200303",
   "metadata": {},
   "source": [
    "# Pattern"
   ]
  },
  {
   "cell_type": "code",
   "execution_count": 1,
   "id": "725e3e1d",
   "metadata": {},
   "outputs": [
    {
     "name": "stdout",
     "output_type": "stream",
     "text": [
      "5\n",
      "55555\n",
      "55555\n",
      "55555\n",
      "55555\n",
      "55555\n"
     ]
    }
   ],
   "source": [
    "n = int(input())\n",
    "i =1\n",
    "while i<=n:\n",
    "    j=1\n",
    "    while j<=n:\n",
    "        print(n, end=\"\")\n",
    "        j=j+1\n",
    "    print()\n",
    "    i=i+1"
   ]
  },
  {
   "cell_type": "code",
   "execution_count": 2,
   "id": "41f8e2ff",
   "metadata": {},
   "outputs": [
    {
     "name": "stdout",
     "output_type": "stream",
     "text": [
      "5\n",
      "*\n",
      "**\n",
      "***\n",
      "****\n",
      "*****\n"
     ]
    }
   ],
   "source": [
    "n = int(input())\n",
    "i =1\n",
    "while i<=n:\n",
    "    j=1\n",
    "    while j<=i:\n",
    "        print(\"*\", end=\"\")\n",
    "        j=j+1\n",
    "    print()\n",
    "    i=i+1"
   ]
  },
  {
   "cell_type": "code",
   "execution_count": 4,
   "id": "3e731b1e",
   "metadata": {},
   "outputs": [
    {
     "name": "stdout",
     "output_type": "stream",
     "text": [
      "5\n",
      "1\n",
      "22\n",
      "333\n",
      "4444\n",
      "55555\n"
     ]
    }
   ],
   "source": [
    "n = int(input())\n",
    "i =1\n",
    "while i<=n:\n",
    "    j=1\n",
    "    while j<=i:\n",
    "        print(i, end=\"\")\n",
    "        j=j+1\n",
    "    print()\n",
    "    i=i+1"
   ]
  },
  {
   "cell_type": "code",
   "execution_count": 5,
   "id": "1f9d6627",
   "metadata": {},
   "outputs": [
    {
     "name": "stdout",
     "output_type": "stream",
     "text": [
      "5\n",
      "1\n",
      "21\n",
      "321\n",
      "4321\n",
      "54321\n"
     ]
    }
   ],
   "source": [
    "n = int(input())\n",
    "i =1\n",
    "while i<=n:\n",
    "    j=1\n",
    "    while j<=i:\n",
    "        print(i-j+1, end=\"\")\n",
    "        j=j+1\n",
    "    print()\n",
    "    i=i+1"
   ]
  },
  {
   "cell_type": "code",
   "execution_count": 2,
   "id": "2db957e2",
   "metadata": {
    "scrolled": true
   },
   "outputs": [
    {
     "name": "stdout",
     "output_type": "stream",
     "text": [
      "6\n",
      "A\n",
      "BB\n",
      "CCC\n",
      "DDDD\n",
      "EEEEE\n",
      "FFFFFF\n"
     ]
    }
   ],
   "source": [
    "n = int(input())\n",
    "i =1\n",
    "while i<=n:\n",
    "    j=1\n",
    "    while j<=i:\n",
    "        charInput = chr(ord('A') + i - 1)\n",
    "        print(charInput, end='')\n",
    "        j=j+1\n",
    "    print()\n",
    "    i=i+1"
   ]
  },
  {
   "cell_type": "code",
   "execution_count": null,
   "id": "2e53ab39",
   "metadata": {},
   "outputs": [],
   "source": [
    "A\n",
    "BB\n",
    "CCC\n",
    "DDDD\n",
    "EEEEE\n",
    "FFFFFF\n",
    "GGGGGGG"
   ]
  },
  {
   "cell_type": "code",
   "execution_count": 4,
   "id": "21f22435",
   "metadata": {},
   "outputs": [
    {
     "name": "stdout",
     "output_type": "stream",
     "text": [
      "5\n",
      "A\n",
      "BC\n",
      "CDE\n",
      "DEFG\n",
      "EFGHI\n"
     ]
    }
   ],
   "source": [
    "n = int(input())\n",
    "i =1\n",
    "while i<=n:\n",
    "    j=1\n",
    "    while j<=i:\n",
    "        charInput = chr(ord('A') + i +j- 2)\n",
    "        print(charInput, end='')\n",
    "        j=j+1\n",
    "    print()\n",
    "    i=i+1"
   ]
  },
  {
   "cell_type": "code",
   "execution_count": null,
   "id": "45e525bf",
   "metadata": {},
   "outputs": [],
   "source": [
    "A\n",
    "BC\n",
    "CDE\n",
    "DEFG\n",
    "EFGHI\n",
    "FGHIJK"
   ]
  },
  {
   "cell_type": "code",
   "execution_count": 9,
   "id": "e54569da",
   "metadata": {},
   "outputs": [
    {
     "name": "stdout",
     "output_type": "stream",
     "text": [
      "5\n",
      "E\n",
      "DE\n",
      "CDE\n",
      "BCDE\n",
      "ABCDE\n"
     ]
    }
   ],
   "source": [
    "n = int(input())\n",
    "i =1\n",
    "while i<=n:\n",
    "    j=1\n",
    "    while j<=i:\n",
    "        charInput = chr(ord('A') + n -i+j-1)\n",
    "        print(charInput, end='')\n",
    "        j=j+1\n",
    "    print()\n",
    "    i=i+1"
   ]
  },
  {
   "cell_type": "code",
   "execution_count": null,
   "id": "b2ec7adb",
   "metadata": {},
   "outputs": [],
   "source": [
    "5\n",
    "E\n",
    "DE\n",
    "CDE\n",
    "BCDE\n",
    "ABCDE"
   ]
  },
  {
   "cell_type": "code",
   "execution_count": 2,
   "id": "40591529",
   "metadata": {},
   "outputs": [
    {
     "name": "stdout",
     "output_type": "stream",
     "text": [
      "5\n",
      "55555\n",
      "4444\n",
      "333\n",
      "22\n",
      "1\n"
     ]
    }
   ],
   "source": [
    "n = int(input())\n",
    "i =1\n",
    "while i<=n:\n",
    "    j=1\n",
    "    while j<=n-i+1:\n",
    "        print(n-i+1, end='')\n",
    "        j=j+1\n",
    "    print()\n",
    "    i=i+1"
   ]
  },
  {
   "cell_type": "code",
   "execution_count": 4,
   "id": "f068ef77",
   "metadata": {},
   "outputs": [
    {
     "name": "stdout",
     "output_type": "stream",
     "text": [
      "5\n",
      "    1\n",
      "   12\n",
      "  123\n",
      " 1234\n",
      "12345\n"
     ]
    }
   ],
   "source": [
    "n = int(input())\n",
    "i =1\n",
    "while i<=n:\n",
    "    spaces=1\n",
    "    while spaces<=n-i:\n",
    "        print(\" \", end='')\n",
    "        spaces=spaces+1\n",
    "    j=1\n",
    "    while j<=i:\n",
    "        print(j, end='')\n",
    "        j=j+1\n",
    "    print()\n",
    "    i=i+1"
   ]
  },
  {
   "cell_type": "code",
   "execution_count": null,
   "id": "3b9b9b24",
   "metadata": {},
   "outputs": [],
   "source": [
    "    1\n",
    "   12\n",
    "  123\n",
    " 1234\n",
    "12345"
   ]
  },
  {
   "cell_type": "code",
   "execution_count": 2,
   "id": "a055d890",
   "metadata": {},
   "outputs": [
    {
     "name": "stdout",
     "output_type": "stream",
     "text": [
      "5\n",
      "    *\n",
      "   ***\n",
      "  *****\n",
      " *******\n",
      "*********\n"
     ]
    }
   ],
   "source": [
    "n = int(input())\n",
    "i =1\n",
    "while i<=n:\n",
    "    spaces=1\n",
    "    while spaces<=n-i:\n",
    "        print(\" \", end='')\n",
    "        spaces=spaces+1\n",
    "    j=1\n",
    "    while j<=i:\n",
    "        print(\"*\", end='')\n",
    "        j=j+1\n",
    "    k=i-1\n",
    "    while k>=1:\n",
    "        print(\"*\", end='')\n",
    "        k=k-1\n",
    "    print()\n",
    "    i=i+1"
   ]
  },
  {
   "cell_type": "raw",
   "id": "e1ce2b6e",
   "metadata": {},
   "source": [
    "     *\n",
    "    ***\n",
    "   *****\n",
    "  *******\n",
    "**********"
   ]
  },
  {
   "cell_type": "code",
   "execution_count": 8,
   "id": "6096cb00",
   "metadata": {},
   "outputs": [
    {
     "name": "stdout",
     "output_type": "stream",
     "text": [
      "5\n",
      "    1\n",
      "   232\n",
      "  34543\n",
      " 4567654\n",
      "567898765\n"
     ]
    }
   ],
   "source": [
    "n = int(input())\n",
    "i =1\n",
    "while i<=n:\n",
    "    spaces=1\n",
    "    while spaces<=n-i:\n",
    "        print(\" \", end='')\n",
    "        spaces=spaces+1\n",
    "    j=1\n",
    "    N=i\n",
    "    while j<=i:\n",
    "        print(N, end='')\n",
    "        N=N+1\n",
    "        j=j+1\n",
    "    k=i-1\n",
    "    while k>=1:\n",
    "        print(N-2, end='')\n",
    "        N=N-1\n",
    "        k=k-1\n",
    "    print()\n",
    "    i=i+1"
   ]
  },
  {
   "cell_type": "raw",
   "id": "29f966c0",
   "metadata": {},
   "source": [
    "    1\n",
    "   232\n",
    "  34543\n",
    " 4567654\n",
    "567898765"
   ]
  },
  {
   "cell_type": "code",
   "execution_count": 19,
   "id": "c7b72d91",
   "metadata": {},
   "outputs": [
    {
     "name": "stdout",
     "output_type": "stream",
     "text": [
      "5\n",
      "    *\n",
      "   ***\n",
      "  *****\n",
      " *******\n",
      "*********\n",
      " *******\n",
      "  *****\n",
      "   ***\n",
      "    *\n"
     ]
    }
   ],
   "source": [
    "n = int(input())\n",
    "i =1\n",
    "while i<=n:\n",
    "    spaces=1\n",
    "    while spaces<=n-i:\n",
    "        print(\" \", end='')\n",
    "        spaces=spaces+1\n",
    "    j=1\n",
    "    while j<=2*i-1:\n",
    "        print(\"*\", end='')\n",
    "        j=j+1\n",
    "    print()\n",
    "    i=i+1\n",
    "\n",
    "j=n-1\n",
    "while j>=1:\n",
    "    l=n-i\n",
    "    while l<=n-j-2:\n",
    "        print(\" \",end='')\n",
    "        l=l+1\n",
    "    k=2*j-1\n",
    "    while k>=1:\n",
    "        print(\"*\", end='')\n",
    "        k=k-1\n",
    "    print()\n",
    "    j=j-1"
   ]
  },
  {
   "cell_type": "raw",
   "id": "8b7f6b6c",
   "metadata": {},
   "source": [
    "     *\n",
    "    ***\n",
    "   *****\n",
    "  *******\n",
    " *********\n",
    "***********\n",
    " *********\n",
    "  *******\n",
    "   *****\n",
    "    ***\n",
    "     *"
   ]
  },
  {
   "cell_type": "markdown",
   "id": "71f9c7e8",
   "metadata": {},
   "source": [
    "# For Loop "
   ]
  },
  {
   "cell_type": "code",
   "execution_count": 9,
   "id": "f1c6cfa0",
   "metadata": {},
   "outputs": [
    {
     "name": "stdout",
     "output_type": "stream",
     "text": [
      "5\n",
      "5 11 14 17 23 26 29 "
     ]
    }
   ],
   "source": [
    "n = int(input())\n",
    "count = 0\n",
    "countFor=0\n",
    "for i in range(1,2*n,1):\n",
    "    aP= 3*i+2\n",
    "    if aP%4!=0:\n",
    "        print(aP, end=\" \")\n",
    "        count=count+1"
   ]
  },
  {
   "cell_type": "code",
   "execution_count": 18,
   "id": "6ae40931",
   "metadata": {},
   "outputs": [
    {
     "name": "stdout",
     "output_type": "stream",
     "text": [
      "5\n",
      "5 11 14 17 23 "
     ]
    }
   ],
   "source": [
    "x=int(input())\n",
    "n=1\n",
    "sum=0\n",
    "i=1\n",
    "while n<=x:\n",
    "    sum=(3*i)+2\n",
    "    if sum%4!=0:\n",
    "        print(sum, end=\" \");\n",
    "        n=n+1\n",
    "    i=i+1"
   ]
  },
  {
   "cell_type": "code",
   "execution_count": 3,
   "id": "bf1d2fcf",
   "metadata": {},
   "outputs": [
    {
     "name": "stdout",
     "output_type": "stream",
     "text": [
      "5\n",
      "    1\n",
      "   232\n",
      "  34543\n",
      " 4567654\n",
      "567898765\n"
     ]
    }
   ],
   "source": [
    "n = int(input())\n",
    "for i in range(1, n+1, 1):\n",
    "    for s in range(n-i):\n",
    "        print(\" \", end='')\n",
    "    for j in range(i,2*i,1):\n",
    "        print(j, end='')\n",
    "    for j in range(2*i-2, i-1, -1):\n",
    "        print(j, end='')\n",
    "    print()"
   ]
  },
  {
   "cell_type": "raw",
   "id": "748b7620",
   "metadata": {},
   "source": [
    "    1\n",
    "   232\n",
    "  34543\n",
    " 4567654\n",
    "567898765"
   ]
  },
  {
   "cell_type": "raw",
   "id": "fd488c0a",
   "metadata": {},
   "source": [
    "Write a program that asks the user for a number N and a choice C. And then give them the possibility to choose between computing the sum and computing the product of all integers in the range 1 to N (both inclusive).\n",
    "If C is equal to -\n",
    " 1, then print the sum\n",
    " 2, then print the product\n",
    " Any other number, then print '-1' (without the quotes)\n",
    "Input format :\n",
    "Line 1 : Integer N\n",
    "Line 2 : Choice C\n",
    "Output Format :\n",
    " Sum or product according to user's choice\n",
    "Constraints :\n",
    "1 <= N <= 12\n",
    "Sample Input 1 :\n",
    "10\n",
    "1\n",
    "Sample Output 1 :\n",
    "55\n",
    "Sample Input 2 :\n",
    "10\n",
    "2\n",
    "Sample Output 2 :\n",
    "3628800\n",
    "Sample Input 3 :\n",
    "10\n",
    "4\n",
    "Sample Output 3 :\n",
    "-1\n"
   ]
  },
  {
   "cell_type": "code",
   "execution_count": 6,
   "id": "ebff1ebe",
   "metadata": {
    "scrolled": true
   },
   "outputs": [
    {
     "name": "stdout",
     "output_type": "stream",
     "text": [
      "10\n",
      "4\n",
      "-1\n"
     ]
    }
   ],
   "source": [
    "n=int(input())\n",
    "c= int(input())\n",
    "sum=0\n",
    "mul=1\n",
    "for i in range(1,n+1):\n",
    "    sum =sum+i;\n",
    "    mul = mul*i\n",
    "if(c==1):\n",
    "    print(sum)\n",
    "elif(c==2):\n",
    "    print(mul)\n",
    "else:\n",
    "    print(\"-1\")"
   ]
  },
  {
   "cell_type": "code",
   "execution_count": null,
   "id": "b4cbff76",
   "metadata": {},
   "outputs": [],
   "source": []
  },
  {
   "cell_type": "code",
   "execution_count": null,
   "id": "404602e8",
   "metadata": {},
   "outputs": [],
   "source": []
  }
 ],
 "metadata": {
  "kernelspec": {
   "display_name": "Python 3 (ipykernel)",
   "language": "python",
   "name": "python3"
  },
  "language_info": {
   "codemirror_mode": {
    "name": "ipython",
    "version": 3
   },
   "file_extension": ".py",
   "mimetype": "text/x-python",
   "name": "python",
   "nbconvert_exporter": "python",
   "pygments_lexer": "ipython3",
   "version": "3.9.13"
  }
 },
 "nbformat": 4,
 "nbformat_minor": 5
}
