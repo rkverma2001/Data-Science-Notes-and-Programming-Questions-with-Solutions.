{
 "cells": [
  {
   "cell_type": "markdown",
   "metadata": {},
   "source": [
    "### Decorators"
   ]
  },
  {
   "cell_type": "code",
   "execution_count": 2,
   "metadata": {
    "execution": {
     "iopub.execute_input": "2023-05-12T07:38:22.683070Z",
     "iopub.status.busy": "2023-05-12T07:38:22.682622Z",
     "iopub.status.idle": "2023-05-12T07:38:22.690933Z",
     "shell.execute_reply": "2023-05-12T07:38:22.688928Z",
     "shell.execute_reply.started": "2023-05-12T07:38:22.683033Z"
    }
   },
   "outputs": [],
   "source": [
    "def test():\n",
    "    print(\"This is the start of my function\")\n",
    "    print(4+5)\n",
    "    print(\"This is the end of my function\")"
   ]
  },
  {
   "cell_type": "code",
   "execution_count": 3,
   "metadata": {
    "execution": {
     "iopub.execute_input": "2023-05-12T07:38:23.251321Z",
     "iopub.status.busy": "2023-05-12T07:38:23.250931Z",
     "iopub.status.idle": "2023-05-12T07:38:23.257901Z",
     "shell.execute_reply": "2023-05-12T07:38:23.256495Z",
     "shell.execute_reply.started": "2023-05-12T07:38:23.251290Z"
    }
   },
   "outputs": [
    {
     "name": "stdout",
     "output_type": "stream",
     "text": [
      "This is the start of my function\n",
      "9\n",
      "This is the end of my function\n"
     ]
    }
   ],
   "source": [
    "test()"
   ]
  },
  {
   "cell_type": "code",
   "execution_count": 4,
   "metadata": {
    "execution": {
     "iopub.execute_input": "2023-05-12T07:39:52.677990Z",
     "iopub.status.busy": "2023-05-12T07:39:52.677589Z",
     "iopub.status.idle": "2023-05-12T07:39:52.685079Z",
     "shell.execute_reply": "2023-05-12T07:39:52.683782Z",
     "shell.execute_reply.started": "2023-05-12T07:39:52.677960Z"
    }
   },
   "outputs": [],
   "source": [
    "def deco(func):\n",
    "    def inner_deco():\n",
    "        print(\"This is the start of my fun\")\n",
    "        func()\n",
    "        print(\"This is the end of my fun\")\n",
    "    return inner_deco"
   ]
  },
  {
   "cell_type": "code",
   "execution_count": 5,
   "metadata": {
    "execution": {
     "iopub.execute_input": "2023-05-12T07:44:54.049971Z",
     "iopub.status.busy": "2023-05-12T07:44:54.049567Z",
     "iopub.status.idle": "2023-05-12T07:44:54.054684Z",
     "shell.execute_reply": "2023-05-12T07:44:54.053768Z",
     "shell.execute_reply.started": "2023-05-12T07:44:54.049941Z"
    }
   },
   "outputs": [],
   "source": [
    "@deco\n",
    "def test1():\n",
    "    print(4+5)"
   ]
  },
  {
   "cell_type": "code",
   "execution_count": 6,
   "metadata": {
    "execution": {
     "iopub.execute_input": "2023-05-12T07:45:01.744354Z",
     "iopub.status.busy": "2023-05-12T07:45:01.743976Z",
     "iopub.status.idle": "2023-05-12T07:45:01.749664Z",
     "shell.execute_reply": "2023-05-12T07:45:01.748440Z",
     "shell.execute_reply.started": "2023-05-12T07:45:01.744315Z"
    }
   },
   "outputs": [
    {
     "name": "stdout",
     "output_type": "stream",
     "text": [
      "This is the start of my fun\n",
      "9\n",
      "This is the end of my fun\n"
     ]
    }
   ],
   "source": [
    "test1()"
   ]
  },
  {
   "cell_type": "code",
   "execution_count": 7,
   "metadata": {
    "execution": {
     "iopub.execute_input": "2023-05-12T07:49:14.304121Z",
     "iopub.status.busy": "2023-05-12T07:49:14.303768Z",
     "iopub.status.idle": "2023-05-12T07:49:14.310158Z",
     "shell.execute_reply": "2023-05-12T07:49:14.308970Z",
     "shell.execute_reply.started": "2023-05-12T07:49:14.304092Z"
    }
   },
   "outputs": [],
   "source": [
    "import time\n",
    "def timer_test(func):\n",
    "    def timer_test_inner():\n",
    "        start = time.time()\n",
    "        func()\n",
    "        end = time.time()\n",
    "        print(end - start)\n",
    "    return timer_test_inner"
   ]
  },
  {
   "cell_type": "code",
   "execution_count": 9,
   "metadata": {
    "execution": {
     "iopub.execute_input": "2023-05-12T07:50:30.661484Z",
     "iopub.status.busy": "2023-05-12T07:50:30.661132Z",
     "iopub.status.idle": "2023-05-12T07:50:30.666574Z",
     "shell.execute_reply": "2023-05-12T07:50:30.665375Z",
     "shell.execute_reply.started": "2023-05-12T07:50:30.661456Z"
    }
   },
   "outputs": [],
   "source": [
    "@timer_test\n",
    "def test2():\n",
    "    print(45 + 67)"
   ]
  },
  {
   "cell_type": "code",
   "execution_count": 10,
   "metadata": {
    "execution": {
     "iopub.execute_input": "2023-05-12T07:50:38.737212Z",
     "iopub.status.busy": "2023-05-12T07:50:38.736508Z",
     "iopub.status.idle": "2023-05-12T07:50:38.742606Z",
     "shell.execute_reply": "2023-05-12T07:50:38.741277Z",
     "shell.execute_reply.started": "2023-05-12T07:50:38.737175Z"
    }
   },
   "outputs": [
    {
     "name": "stdout",
     "output_type": "stream",
     "text": [
      "112\n",
      "6.318092346191406e-05\n"
     ]
    }
   ],
   "source": [
    "test2()"
   ]
  },
  {
   "cell_type": "code",
   "execution_count": 12,
   "metadata": {
    "execution": {
     "iopub.execute_input": "2023-05-12T07:53:13.943494Z",
     "iopub.status.busy": "2023-05-12T07:53:13.943102Z",
     "iopub.status.idle": "2023-05-12T07:53:13.949312Z",
     "shell.execute_reply": "2023-05-12T07:53:13.948155Z",
     "shell.execute_reply.started": "2023-05-12T07:53:13.943462Z"
    }
   },
   "outputs": [],
   "source": [
    "@timer_test\n",
    "def test3():\n",
    "    for i in range(100000):\n",
    "        pass"
   ]
  },
  {
   "cell_type": "code",
   "execution_count": 13,
   "metadata": {
    "execution": {
     "iopub.execute_input": "2023-05-12T07:53:23.370179Z",
     "iopub.status.busy": "2023-05-12T07:53:23.369784Z",
     "iopub.status.idle": "2023-05-12T07:53:23.378826Z",
     "shell.execute_reply": "2023-05-12T07:53:23.377622Z",
     "shell.execute_reply.started": "2023-05-12T07:53:23.370142Z"
    }
   },
   "outputs": [
    {
     "name": "stdout",
     "output_type": "stream",
     "text": [
      "0.002468585968017578\n"
     ]
    }
   ],
   "source": [
    "test3()"
   ]
  },
  {
   "cell_type": "markdown",
   "metadata": {},
   "source": [
    "### Class Method"
   ]
  },
  {
   "cell_type": "code",
   "execution_count": 1,
   "metadata": {},
   "outputs": [],
   "source": [
    "class pwskills:\n",
    "    def __init__(self, name, email):\n",
    "        \n",
    "        self.name = name\n",
    "        self.email = email\n",
    "        \n",
    "    def student_details(self):\n",
    "        print(self.name, self.email)"
   ]
  },
  {
   "cell_type": "code",
   "execution_count": 2,
   "metadata": {},
   "outputs": [],
   "source": [
    "pw = pwskills(\"ritesh\", \"riteshkumarverma2018@gmail.com\")"
   ]
  },
  {
   "cell_type": "code",
   "execution_count": 3,
   "metadata": {},
   "outputs": [
    {
     "data": {
      "text/plain": [
       "'ritesh'"
      ]
     },
     "execution_count": 3,
     "metadata": {},
     "output_type": "execute_result"
    }
   ],
   "source": [
    "pw.name"
   ]
  },
  {
   "cell_type": "code",
   "execution_count": null,
   "metadata": {},
   "outputs": [],
   "source": []
  }
 ],
 "metadata": {
  "kernelspec": {
   "display_name": "Python 3 (ipykernel)",
   "language": "python",
   "name": "python3"
  },
  "language_info": {
   "codemirror_mode": {
    "name": "ipython",
    "version": 3
   },
   "file_extension": ".py",
   "mimetype": "text/x-python",
   "name": "python",
   "nbconvert_exporter": "python",
   "pygments_lexer": "ipython3",
   "version": "3.9.13"
  }
 },
 "nbformat": 4,
 "nbformat_minor": 4
}
