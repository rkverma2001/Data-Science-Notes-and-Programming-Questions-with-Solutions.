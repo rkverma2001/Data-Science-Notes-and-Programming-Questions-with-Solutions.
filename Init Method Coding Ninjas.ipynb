{
 "cells": [
  {
   "cell_type": "code",
   "execution_count": 16,
   "id": "8570acd5",
   "metadata": {},
   "outputs": [],
   "source": [
    "class Student:\n",
    "    def __init__(self, name, rollNumber):\n",
    "        self.name = name\n",
    "        self.rollNumber = rollNumber"
   ]
  },
  {
   "cell_type": "code",
   "execution_count": 17,
   "id": "ca0ff97a",
   "metadata": {},
   "outputs": [],
   "source": [
    "s1 = Student(\"Ritesh\", 12)"
   ]
  },
  {
   "cell_type": "code",
   "execution_count": 18,
   "id": "3ebf9a70",
   "metadata": {},
   "outputs": [
    {
     "data": {
      "text/plain": [
       "{'name': 'Ritesh', 'rollNumber': 12}"
      ]
     },
     "execution_count": 18,
     "metadata": {},
     "output_type": "execute_result"
    }
   ],
   "source": [
    "s1.__dict__"
   ]
  },
  {
   "cell_type": "code",
   "execution_count": 19,
   "id": "14398aee",
   "metadata": {},
   "outputs": [],
   "source": [
    "s2 = Student(\"Rohan\", 13)"
   ]
  },
  {
   "cell_type": "code",
   "execution_count": 20,
   "id": "95873d33",
   "metadata": {},
   "outputs": [
    {
     "data": {
      "text/plain": [
       "{'name': 'Rohan', 'rollNumber': 13}"
      ]
     },
     "execution_count": 20,
     "metadata": {},
     "output_type": "execute_result"
    }
   ],
   "source": [
    "s2.__dict__"
   ]
  },
  {
   "cell_type": "code",
   "execution_count": 15,
   "id": "71a11869",
   "metadata": {},
   "outputs": [
    {
     "data": {
      "text/plain": [
       "(<__main__.Student at 0x257c79fac40>, <__main__.Student at 0x257c764c130>)"
      ]
     },
     "execution_count": 15,
     "metadata": {},
     "output_type": "execute_result"
    }
   ],
   "source": [
    "s1, s2"
   ]
  },
  {
   "cell_type": "code",
   "execution_count": 21,
   "id": "72016554",
   "metadata": {},
   "outputs": [],
   "source": [
    "s3 = Student(\"Priya\", 14)"
   ]
  },
  {
   "cell_type": "markdown",
   "id": "bb79273b",
   "metadata": {},
   "source": [
    "## Class Methods"
   ]
  },
  {
   "cell_type": "code",
   "execution_count": 23,
   "id": "5701ae15",
   "metadata": {},
   "outputs": [],
   "source": [
    "from datetime import date\n",
    "class Student:\n",
    "    \n",
    "    passingPercentage = 40\n",
    "    \n",
    "    def __init__(self, name, age=15, percentage=80):\n",
    "        self.name = name\n",
    "        self.age = age\n",
    "        self.percentage = percentage\n",
    "        \n",
    "    @classmethod\n",
    "    def fromBirthYear(cls, name, year, percentage):\n",
    "        return cls(name, date.today().year - year, percentage)\n",
    "    \n",
    "    def studentDetails(self):\n",
    "        print(\"Name = \", self.name)\n",
    "        print(\"Age = \", self.age)\n",
    "        print(\"Percentage = \", self.percentage)\n",
    "    \n",
    "    def isPassed(self):\n",
    "        if self.percentage > Student.passingPercentage:\n",
    "            print(\"Student is passed\")\n",
    "            \n",
    "        else:\n",
    "            print(\"Student is not passed\")\n",
    "            \n",
    "    @staticmethod\n",
    "    def welcomeToSchool():\n",
    "        print(\"Hey! Welcome To School\")\n",
    "         \n",
    "    @staticmethod\n",
    "    def isTeen(age):\n",
    "        return age>16"
   ]
  },
  {
   "cell_type": "code",
   "execution_count": 24,
   "id": "750beac2",
   "metadata": {},
   "outputs": [
    {
     "name": "stdout",
     "output_type": "stream",
     "text": [
      "Name =  Ritesh\n",
      "Age =  22\n",
      "Percentage =  77\n"
     ]
    }
   ],
   "source": [
    "s1 = Student(\"Ritesh\")\n",
    "s1 = Student.fromBirthYear(\"Ritesh\", 2001, 77)\n",
    "s1.studentDetails()"
   ]
  },
  {
   "cell_type": "markdown",
   "id": "6608e58c",
   "metadata": {},
   "source": [
    "### Public and Private Access Modifiers"
   ]
  },
  {
   "cell_type": "code",
   "execution_count": 25,
   "id": "8876f809",
   "metadata": {},
   "outputs": [],
   "source": [
    "class Student:\n",
    "    \n",
    "    __passingPercentage = 40\n",
    "    \n",
    "    def __init__(self, name, age=15, percentage=80):\n",
    "        self.__name = name\n",
    "        self.age = age\n",
    "        self.percentage = percentage\n",
    "    \n",
    "    def studentDetails(self):\n",
    "        print(\"Name = \", self.__name)\n",
    "        print(\"Age = \", self.age)\n",
    "        print(\"Percentage = \", self.percentage)\n",
    "    \n",
    "    def isPassed(self):\n",
    "        if self.percentage > Student.passingPercentage:\n",
    "            print(\"Student is passed\")\n",
    "            \n",
    "        else:\n",
    "            print(\"Student is not passed\")\n",
    "            \n",
    "    @staticmethod\n",
    "    def welcomeToSchool():\n",
    "        print(\"Hey! Welcome To School\")"
   ]
  },
  {
   "cell_type": "code",
   "execution_count": 26,
   "id": "b870967f",
   "metadata": {},
   "outputs": [
    {
     "name": "stdout",
     "output_type": "stream",
     "text": [
      "40\n",
      "Name =  Ritesh\n",
      "Age =  20\n",
      "Percentage =  80\n"
     ]
    }
   ],
   "source": [
    "s1 = Student(\"Ritesh\")\n",
    "#print(s1.__name)\n",
    "#print(s1.age)\n",
    "s1.age = 20\n",
    "print(Student._Student__passingPercentage)\n",
    "s1.studentDetails()"
   ]
  },
  {
   "cell_type": "code",
   "execution_count": null,
   "id": "74d48dbf",
   "metadata": {},
   "outputs": [],
   "source": []
  }
 ],
 "metadata": {
  "kernelspec": {
   "display_name": "Python 3 (ipykernel)",
   "language": "python",
   "name": "python3"
  },
  "language_info": {
   "codemirror_mode": {
    "name": "ipython",
    "version": 3
   },
   "file_extension": ".py",
   "mimetype": "text/x-python",
   "name": "python",
   "nbconvert_exporter": "python",
   "pygments_lexer": "ipython3",
   "version": "3.9.13"
  }
 },
 "nbformat": 4,
 "nbformat_minor": 5
}
