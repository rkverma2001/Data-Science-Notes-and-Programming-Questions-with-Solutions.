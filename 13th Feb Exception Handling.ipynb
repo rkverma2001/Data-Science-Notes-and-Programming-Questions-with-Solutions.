{
 "cells": [
  {
   "cell_type": "markdown",
   "id": "6ebb0748",
   "metadata": {},
   "source": [
    "### List of General Use Exception"
   ]
  },
  {
   "cell_type": "code",
   "execution_count": 1,
   "id": "8ab806c4",
   "metadata": {},
   "outputs": [
    {
     "name": "stdout",
     "output_type": "stream",
     "text": [
      "division by zero\n"
     ]
    }
   ],
   "source": [
    "try:\n",
    "    a = 10\n",
    "    10/0\n",
    "except ZeroDivisionError as e:\n",
    "    print(e)"
   ]
  },
  {
   "cell_type": "code",
   "execution_count": 2,
   "id": "b9e68e9a",
   "metadata": {},
   "outputs": [
    {
     "name": "stdout",
     "output_type": "stream",
     "text": [
      "invalid literal for int() with base 10: 'Ritesh'\n"
     ]
    }
   ],
   "source": [
    "try:\n",
    "    int(\"Ritesh\")\n",
    "except(ValueError, TypeError) as e:\n",
    "    print(e)"
   ]
  },
  {
   "cell_type": "code",
   "execution_count": 3,
   "id": "ef97d1be",
   "metadata": {},
   "outputs": [
    {
     "name": "stdout",
     "output_type": "stream",
     "text": [
      "This will catch an error\n"
     ]
    }
   ],
   "source": [
    "try:\n",
    "    int(\"Ritesh\")\n",
    "except:\n",
    "    print(\"This will catch an error\")"
   ]
  },
  {
   "cell_type": "code",
   "execution_count": 4,
   "id": "d6a669ef",
   "metadata": {},
   "outputs": [
    {
     "name": "stdout",
     "output_type": "stream",
     "text": [
      "No module named 'rit'\n"
     ]
    }
   ],
   "source": [
    "try:\n",
    "    import rit\n",
    "except ImportError as e:\n",
    "    print(e)"
   ]
  },
  {
   "cell_type": "code",
   "execution_count": 5,
   "id": "de6cc719",
   "metadata": {},
   "outputs": [
    {
     "name": "stdout",
     "output_type": "stream",
     "text": [
      "'key10'\n"
     ]
    }
   ],
   "source": [
    "try:\n",
    "    d = {1: [3, 4, 5, 6], \"key\" : \"rit\"}\n",
    "    d[\"key10\"]\n",
    "except KeyError as e:\n",
    "    print(e)"
   ]
  },
  {
   "cell_type": "code",
   "execution_count": 6,
   "id": "bf616da5",
   "metadata": {},
   "outputs": [
    {
     "name": "stdout",
     "output_type": "stream",
     "text": [
      "'str' object has no attribute 'test'\n"
     ]
    }
   ],
   "source": [
    "try:\n",
    "    \"rit\".test()\n",
    "except AttributeError as e:\n",
    "    print(e)"
   ]
  },
  {
   "cell_type": "code",
   "execution_count": 7,
   "id": "f8fdcded",
   "metadata": {},
   "outputs": [
    {
     "name": "stdout",
     "output_type": "stream",
     "text": [
      "list index out of range\n"
     ]
    }
   ],
   "source": [
    "try:\n",
    "    l = [1, 2, 3, 3]\n",
    "    l[10]\n",
    "except IndexError as e:\n",
    "    print(e)"
   ]
  },
  {
   "cell_type": "code",
   "execution_count": 9,
   "id": "d9d2d479",
   "metadata": {},
   "outputs": [
    {
     "name": "stdout",
     "output_type": "stream",
     "text": [
      "unsupported operand type(s) for +: 'int' and 'str'\n"
     ]
    }
   ],
   "source": [
    "try:\n",
    "    123 + \"rit\"\n",
    "except TypeError as e:\n",
    "    print(e)"
   ]
  },
  {
   "cell_type": "code",
   "execution_count": 10,
   "id": "e2d5acff",
   "metadata": {},
   "outputs": [
    {
     "name": "stdout",
     "output_type": "stream",
     "text": [
      "[Errno 2] No such file or directory: 'ritesh.text'\n"
     ]
    }
   ],
   "source": [
    "try:\n",
    "    with open(\"ritesh.text\", 'r') as f:\n",
    "        f.read()\n",
    "except FileNotFoundError as e:\n",
    "    print(e)"
   ]
  },
  {
   "cell_type": "code",
   "execution_count": 12,
   "id": "9a2bb22d",
   "metadata": {},
   "outputs": [
    {
     "name": "stdout",
     "output_type": "stream",
     "text": [
      "test [Errno 2] No such file or directory: 'ritesh.text'\n"
     ]
    }
   ],
   "source": [
    "try:\n",
    "    with open(\"ritesh.text\", 'r') as f:\n",
    "        f.read()\n",
    "except Exception as e:\n",
    "    print(\"test\", e)\n",
    "except FileNotFoundError as e:\n",
    "    print(\"this is my file not found type error\", e)"
   ]
  },
  {
   "cell_type": "code",
   "execution_count": 13,
   "id": "f5a3e0ca",
   "metadata": {},
   "outputs": [],
   "source": [
    "def test(file):\n",
    "    try:\n",
    "        with open(file, 'r') as f:\n",
    "            f.read()\n",
    "    except Exception as e:\n",
    "        print(\"test\", e)\n",
    "    except FileNotFoundError as e:\n",
    "        print(\"this is my file not found tpye error\", e)"
   ]
  },
  {
   "cell_type": "markdown",
   "id": "e666195f",
   "metadata": {},
   "source": [
    "### Best practice Exception Handling"
   ]
  },
  {
   "cell_type": "code",
   "execution_count": 14,
   "id": "2e38da82",
   "metadata": {},
   "outputs": [
    {
     "name": "stdout",
     "output_type": "stream",
     "text": [
      "division by zero\n"
     ]
    }
   ],
   "source": [
    "# Use always a specific exception\n",
    "try:\n",
    "    10/0\n",
    "except Exception as e:\n",
    "    print(e)"
   ]
  },
  {
   "cell_type": "code",
   "execution_count": 15,
   "id": "cff2485a",
   "metadata": {},
   "outputs": [
    {
     "name": "stdout",
     "output_type": "stream",
     "text": [
      "division by zero\n"
     ]
    }
   ],
   "source": [
    "try:\n",
    "    10/0\n",
    "except ZeroDivisionError as e:\n",
    "    print(e)"
   ]
  },
  {
   "cell_type": "code",
   "execution_count": 16,
   "id": "d5aa1e9f",
   "metadata": {},
   "outputs": [
    {
     "name": "stdout",
     "output_type": "stream",
     "text": [
      "This is my zero division error I am handling division by zero\n"
     ]
    }
   ],
   "source": [
    "# Print always a valid msg\n",
    "try:\n",
    "    10/0\n",
    "except ZeroDivisionError as e:\n",
    "    print(\"This is my zero division error I am handling\",e)"
   ]
  },
  {
   "cell_type": "code",
   "execution_count": 17,
   "id": "74a20256",
   "metadata": {},
   "outputs": [],
   "source": [
    "# Always try to log\n",
    "import logging\n",
    "logging.basicConfig(filename=\"error.log\", level= logging.ERROR)\n",
    "try:\n",
    "    10/0\n",
    "except ZeroDivisionError as e:\n",
    "    logging.error(\"This is my zero division error I am handling {}\".format(e))"
   ]
  },
  {
   "cell_type": "code",
   "execution_count": 19,
   "id": "07776f1d",
   "metadata": {},
   "outputs": [],
   "source": [
    "# Always avoid to write a multiple exception handling\n",
    "try:\n",
    "    10/0\n",
    "except FileNotFoundError as e:\n",
    "    logging.error(\"This is my file not found {}\".format(e))\n",
    "except AttributeError as e:\n",
    "    logging.error(\"This is my attribute error {}\".format(e))\n",
    "except ZeroDivisionError as e:\n",
    "    logging.error(\"This is my zero division error I am handling {}\".format(e))"
   ]
  },
  {
   "cell_type": "code",
   "execution_count": 20,
   "id": "3e156ffb",
   "metadata": {},
   "outputs": [],
   "source": [
    "# Prepare a proper documentation"
   ]
  },
  {
   "cell_type": "code",
   "execution_count": null,
   "id": "8ed6ac9c",
   "metadata": {},
   "outputs": [],
   "source": [
    "# Cleanup all the resources"
   ]
  }
 ],
 "metadata": {
  "kernelspec": {
   "display_name": "Python 3 (ipykernel)",
   "language": "python",
   "name": "python3"
  },
  "language_info": {
   "codemirror_mode": {
    "name": "ipython",
    "version": 3
   },
   "file_extension": ".py",
   "mimetype": "text/x-python",
   "name": "python",
   "nbconvert_exporter": "python",
   "pygments_lexer": "ipython3",
   "version": "3.9.13"
  }
 },
 "nbformat": 4,
 "nbformat_minor": 5
}
