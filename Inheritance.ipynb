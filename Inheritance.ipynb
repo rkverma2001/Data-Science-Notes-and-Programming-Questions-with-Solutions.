{
 "cells": [
  {
   "cell_type": "code",
   "execution_count": 1,
   "id": "716c2e35",
   "metadata": {},
   "outputs": [],
   "source": [
    "class parent:\n",
    "    \n",
    "    def test_parent(self):\n",
    "        print(\"This is my parent class\")"
   ]
  },
  {
   "cell_type": "code",
   "execution_count": 2,
   "id": "cf1d7b42",
   "metadata": {},
   "outputs": [],
   "source": [
    "class child(parent):\n",
    "    pass"
   ]
  },
  {
   "cell_type": "code",
   "execution_count": 3,
   "id": "063d326a",
   "metadata": {},
   "outputs": [],
   "source": [
    "child_obj = child()"
   ]
  },
  {
   "cell_type": "code",
   "execution_count": 4,
   "id": "2e0e99c6",
   "metadata": {},
   "outputs": [
    {
     "name": "stdout",
     "output_type": "stream",
     "text": [
      "This is my parent class\n"
     ]
    }
   ],
   "source": [
    "child_obj.test_parent()"
   ]
  },
  {
   "cell_type": "markdown",
   "id": "260773b4",
   "metadata": {},
   "source": [
    "### Multilevel Inheritance"
   ]
  },
  {
   "cell_type": "code",
   "execution_count": 15,
   "id": "24912e5a",
   "metadata": {},
   "outputs": [],
   "source": [
    "class class1:\n",
    "    \n",
    "    def test_class1(self):\n",
    "        print(\"This is my class1\")"
   ]
  },
  {
   "cell_type": "code",
   "execution_count": 16,
   "id": "a5482188",
   "metadata": {},
   "outputs": [],
   "source": [
    "class class2(class1):\n",
    "    \n",
    "    def test_class2(self):\n",
    "        print(\"This is my class2\")"
   ]
  },
  {
   "cell_type": "code",
   "execution_count": 17,
   "id": "faa4aa26",
   "metadata": {},
   "outputs": [],
   "source": [
    "class class3(class2):\n",
    "    \n",
    "    def test_class3(self):\n",
    "        print(\"This is my class3\")"
   ]
  },
  {
   "cell_type": "code",
   "execution_count": 18,
   "id": "7a4b16a2",
   "metadata": {},
   "outputs": [],
   "source": [
    "obj_class3 = class3()"
   ]
  },
  {
   "cell_type": "code",
   "execution_count": 19,
   "id": "ccde9d62",
   "metadata": {},
   "outputs": [
    {
     "name": "stdout",
     "output_type": "stream",
     "text": [
      "This is my class1\n"
     ]
    }
   ],
   "source": [
    "obj_class3.test_class1()"
   ]
  },
  {
   "cell_type": "code",
   "execution_count": 20,
   "id": "c6091356",
   "metadata": {},
   "outputs": [
    {
     "name": "stdout",
     "output_type": "stream",
     "text": [
      "This is my class2\n"
     ]
    }
   ],
   "source": [
    "obj_class3.test_class2()"
   ]
  },
  {
   "cell_type": "markdown",
   "id": "cf84f5bd",
   "metadata": {},
   "source": [
    "### Multiple Inheritence"
   ]
  },
  {
   "cell_type": "code",
   "execution_count": 24,
   "id": "a7adb797",
   "metadata": {},
   "outputs": [],
   "source": [
    "class class1:\n",
    "    \n",
    "    def test_class1(self):\n",
    "        print(\"This is my class1\")"
   ]
  },
  {
   "cell_type": "code",
   "execution_count": 27,
   "id": "adec3986",
   "metadata": {},
   "outputs": [],
   "source": [
    "class class2:\n",
    "    \n",
    "    def test_class2(self):\n",
    "        print(\"This is my class2\")"
   ]
  },
  {
   "cell_type": "code",
   "execution_count": 28,
   "id": "404d3977",
   "metadata": {},
   "outputs": [],
   "source": [
    "class class3(class1, class2):\n",
    "    pass"
   ]
  },
  {
   "cell_type": "code",
   "execution_count": 30,
   "id": "c1401b6c",
   "metadata": {},
   "outputs": [],
   "source": [
    "obj_class3 = class3()"
   ]
  },
  {
   "cell_type": "code",
   "execution_count": 31,
   "id": "38aa35a3",
   "metadata": {},
   "outputs": [
    {
     "name": "stdout",
     "output_type": "stream",
     "text": [
      "This is my class1\n"
     ]
    }
   ],
   "source": [
    "obj_class3.test_class1()"
   ]
  },
  {
   "cell_type": "code",
   "execution_count": 32,
   "id": "8d5356f7",
   "metadata": {},
   "outputs": [
    {
     "name": "stdout",
     "output_type": "stream",
     "text": [
      "This is my class2\n"
     ]
    }
   ],
   "source": [
    "obj_class3.test_class2()"
   ]
  },
  {
   "cell_type": "code",
   "execution_count": null,
   "id": "b26257ac",
   "metadata": {},
   "outputs": [],
   "source": []
  }
 ],
 "metadata": {
  "kernelspec": {
   "display_name": "Python 3 (ipykernel)",
   "language": "python",
   "name": "python3"
  },
  "language_info": {
   "codemirror_mode": {
    "name": "ipython",
    "version": 3
   },
   "file_extension": ".py",
   "mimetype": "text/x-python",
   "name": "python",
   "nbconvert_exporter": "python",
   "pygments_lexer": "ipython3",
   "version": "3.9.13"
  }
 },
 "nbformat": 4,
 "nbformat_minor": 5
}
