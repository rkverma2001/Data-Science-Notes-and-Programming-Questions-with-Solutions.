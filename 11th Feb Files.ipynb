{
 "cells": [
  {
   "cell_type": "code",
   "execution_count": 1,
   "id": "a6f3856a",
   "metadata": {},
   "outputs": [],
   "source": [
    "f = open(\"test.txt\", 'w')"
   ]
  },
  {
   "cell_type": "code",
   "execution_count": 2,
   "id": "91bb12cf",
   "metadata": {},
   "outputs": [
    {
     "data": {
      "text/plain": [
       "'C:\\\\Users\\\\Dell\\\\Data Science Masters Notes'"
      ]
     },
     "execution_count": 2,
     "metadata": {},
     "output_type": "execute_result"
    }
   ],
   "source": [
    "pwd"
   ]
  },
  {
   "cell_type": "code",
   "execution_count": 3,
   "id": "7724ae19",
   "metadata": {},
   "outputs": [
    {
     "name": "stdout",
     "output_type": "stream",
     "text": [
      " Volume in drive C is OS\n",
      " Volume Serial Number is 867B-D884\n",
      "\n",
      " Directory of C:\\Users\\Dell\\Data Science Masters Notes\n",
      "\n",
      "05/20/2023  09:33 PM    <DIR>          .\n",
      "05/15/2023  01:46 PM    <DIR>          ..\n",
      "05/20/2023  09:31 PM    <DIR>          .ipynb_checkpoints\n",
      "05/20/2023  09:25 PM            23,201 10th Feb Oops Concept.ipynb\n",
      "05/20/2023  09:33 PM             1,120 11th Feb Files.ipynb\n",
      "03/25/2023  02:05 PM             9,535 Dictionary.ipynb\n",
      "05/11/2023  09:36 PM             4,526 Encaptulation.ipynb\n",
      "03/31/2023  05:43 PM             3,966 Functions.ipynb\n",
      "05/11/2023  10:05 PM             4,689 Inheritance.ipynb\n",
      "05/09/2023  07:42 AM             8,126 Init Method Coding Ninjas.ipynb\n",
      "02/12/2023  09:18 PM            30,852 Intro to Python.ipynb\n",
      "05/06/2023  09:10 AM             8,650 OOPs with Coding Ninjas.ipynb\n",
      "04/07/2023  08:50 PM             4,834 OOPs.ipynb\n",
      "03/30/2023  09:52 PM            10,225 patterns.ipynb\n",
      "05/04/2023  04:48 PM             3,069 Polymorphism.ipynb\n",
      "05/01/2023  09:46 AM                64 README.md\n",
      "05/01/2023  08:55 AM             7,622 Recursion 1.ipynb\n",
      "05/03/2023  03:43 PM            11,398 Recursion 2.ipynb\n",
      "05/05/2023  12:16 PM             8,182 Recursion Asignment.ipynb\n",
      "02/11/2023  02:43 PM            17,825 String, Lists and Arrays.ipynb\n",
      "05/20/2023  09:33 PM                 0 test.txt\n",
      "05/16/2023  12:55 PM             2,964 Untitled.ipynb\n",
      "              19 File(s)        160,848 bytes\n",
      "               3 Dir(s)  52,050,800,640 bytes free\n"
     ]
    }
   ],
   "source": [
    "ls"
   ]
  },
  {
   "cell_type": "code",
   "execution_count": 4,
   "id": "cd7675b1",
   "metadata": {},
   "outputs": [
    {
     "data": {
      "text/plain": [
       "44"
      ]
     },
     "execution_count": 4,
     "metadata": {},
     "output_type": "execute_result"
    }
   ],
   "source": [
    "f.write(\"this is my first write operation in the file\")"
   ]
  },
  {
   "cell_type": "code",
   "execution_count": 5,
   "id": "3bbfb9b7",
   "metadata": {},
   "outputs": [],
   "source": [
    "f.close()"
   ]
  },
  {
   "cell_type": "code",
   "execution_count": 1,
   "id": "1dc5d4e9",
   "metadata": {},
   "outputs": [],
   "source": [
    "data = open(\"test.txt\", 'r')"
   ]
  },
  {
   "cell_type": "code",
   "execution_count": 2,
   "id": "449795c8",
   "metadata": {},
   "outputs": [
    {
     "data": {
      "text/plain": [
       "'this is my first write operation in the file'"
      ]
     },
     "execution_count": 2,
     "metadata": {},
     "output_type": "execute_result"
    }
   ],
   "source": [
    "data.read()"
   ]
  },
  {
   "cell_type": "code",
   "execution_count": 3,
   "id": "0abf844e",
   "metadata": {},
   "outputs": [
    {
     "data": {
      "text/plain": [
       "''"
      ]
     },
     "execution_count": 3,
     "metadata": {},
     "output_type": "execute_result"
    }
   ],
   "source": [
    "data.read()"
   ]
  },
  {
   "cell_type": "code",
   "execution_count": 7,
   "id": "64b3c882",
   "metadata": {},
   "outputs": [
    {
     "data": {
      "text/plain": [
       "0"
      ]
     },
     "execution_count": 7,
     "metadata": {},
     "output_type": "execute_result"
    }
   ],
   "source": [
    "data.seek(0)"
   ]
  },
  {
   "cell_type": "code",
   "execution_count": 8,
   "id": "75febfbd",
   "metadata": {},
   "outputs": [
    {
     "data": {
      "text/plain": [
       "'this is my first write operation in the file'"
      ]
     },
     "execution_count": 8,
     "metadata": {},
     "output_type": "execute_result"
    }
   ],
   "source": [
    "data.read()"
   ]
  },
  {
   "cell_type": "code",
   "execution_count": 11,
   "id": "e6f3f0c9",
   "metadata": {},
   "outputs": [],
   "source": [
    "data1 = open(\"test.txt\", 'r')"
   ]
  },
  {
   "cell_type": "code",
   "execution_count": 12,
   "id": "5a32ca4b",
   "metadata": {},
   "outputs": [
    {
     "name": "stdout",
     "output_type": "stream",
     "text": [
      "this is my first write operation in the file\n"
     ]
    }
   ],
   "source": [
    "for i in data1:\n",
    "    print(i)"
   ]
  },
  {
   "cell_type": "code",
   "execution_count": 13,
   "id": "b1337579",
   "metadata": {},
   "outputs": [],
   "source": [
    "import os"
   ]
  },
  {
   "cell_type": "code",
   "execution_count": 14,
   "id": "bb68a433",
   "metadata": {},
   "outputs": [
    {
     "data": {
      "text/plain": [
       "44"
      ]
     },
     "execution_count": 14,
     "metadata": {},
     "output_type": "execute_result"
    }
   ],
   "source": [
    "os.path.getsize(\"test.txt\")"
   ]
  },
  {
   "cell_type": "code",
   "execution_count": 15,
   "id": "8790761a",
   "metadata": {},
   "outputs": [],
   "source": [
    "import shutil"
   ]
  },
  {
   "cell_type": "code",
   "execution_count": 16,
   "id": "1549f4b7",
   "metadata": {},
   "outputs": [
    {
     "data": {
      "text/plain": [
       "'new_test.txt'"
      ]
     },
     "execution_count": 16,
     "metadata": {},
     "output_type": "execute_result"
    }
   ],
   "source": [
    "shutil.copy(\"test.txt\", \"new_test.txt\")"
   ]
  },
  {
   "cell_type": "code",
   "execution_count": 18,
   "id": "dc78f376",
   "metadata": {},
   "outputs": [],
   "source": [
    "os.remove(\"new_test.txt\")"
   ]
  },
  {
   "cell_type": "code",
   "execution_count": 19,
   "id": "db54bd88",
   "metadata": {},
   "outputs": [
    {
     "name": "stdout",
     "output_type": "stream",
     "text": [
      "this is my first write operation in the file\n"
     ]
    }
   ],
   "source": [
    "with open(\"test.txt\", \"r\") as f:\n",
    "    print(f.read())"
   ]
  },
  {
   "cell_type": "code",
   "execution_count": 20,
   "id": "5258aa99",
   "metadata": {},
   "outputs": [
    {
     "ename": "PermissionError",
     "evalue": "[WinError 32] The process cannot access the file because it is being used by another process: 'test.txt' -> 'test1.txt'",
     "output_type": "error",
     "traceback": [
      "\u001b[1;31m---------------------------------------------------------------------------\u001b[0m",
      "\u001b[1;31mPermissionError\u001b[0m                           Traceback (most recent call last)",
      "\u001b[1;32m~\\AppData\\Local\\Temp\\ipykernel_26668\\3931975677.py\u001b[0m in \u001b[0;36m<module>\u001b[1;34m\u001b[0m\n\u001b[1;32m----> 1\u001b[1;33m \u001b[0mos\u001b[0m\u001b[1;33m.\u001b[0m\u001b[0mrename\u001b[0m\u001b[1;33m(\u001b[0m\u001b[1;34m\"test.txt\"\u001b[0m\u001b[1;33m,\u001b[0m \u001b[1;34m\"test1.txt\"\u001b[0m\u001b[1;33m)\u001b[0m\u001b[1;33m\u001b[0m\u001b[1;33m\u001b[0m\u001b[0m\n\u001b[0m",
      "\u001b[1;31mPermissionError\u001b[0m: [WinError 32] The process cannot access the file because it is being used by another process: 'test.txt' -> 'test1.txt'"
     ]
    }
   ],
   "source": [
    "os.rename(\"test.txt\", \"test1.txt\")"
   ]
  },
  {
   "cell_type": "markdown",
   "id": "23846360",
   "metadata": {},
   "source": [
    "### Reading and Writing Operations with Different types of files"
   ]
  },
  {
   "cell_type": "code",
   "execution_count": 21,
   "id": "004d5816",
   "metadata": {},
   "outputs": [],
   "source": [
    "data = {\n",
    "    \"name\" : \"ritesh\",\n",
    "    \"mail_id\" : \"ritesh@gmail.com\",\n",
    "    \"phone_number\" : 8707878731,\n",
    "    \"subject\" : [\"data science\", \"big data\", \"data analytics\"]\n",
    "}"
   ]
  },
  {
   "cell_type": "code",
   "execution_count": 22,
   "id": "dc8fc3f1",
   "metadata": {},
   "outputs": [],
   "source": [
    "import json"
   ]
  },
  {
   "cell_type": "code",
   "execution_count": 23,
   "id": "9284f2f6",
   "metadata": {},
   "outputs": [],
   "source": [
    "with open(\"test1.json\", \"w\") as f:\n",
    "    json.dump(data, f)"
   ]
  },
  {
   "cell_type": "code",
   "execution_count": 24,
   "id": "707cef3f",
   "metadata": {},
   "outputs": [],
   "source": [
    "with open(\"test1.json\", 'r') as f:\n",
    "    data1 = json.load(f)"
   ]
  },
  {
   "cell_type": "code",
   "execution_count": 25,
   "id": "37f33a12",
   "metadata": {},
   "outputs": [
    {
     "data": {
      "text/plain": [
       "{'name': 'ritesh',\n",
       " 'mail_id': 'ritesh@gmail.com',\n",
       " 'phone_number': 8707878731,\n",
       " 'subject': ['data science', 'big data', 'data analytics']}"
      ]
     },
     "execution_count": 25,
     "metadata": {},
     "output_type": "execute_result"
    }
   ],
   "source": [
    "data1"
   ]
  },
  {
   "cell_type": "code",
   "execution_count": 26,
   "id": "2e74541f",
   "metadata": {},
   "outputs": [
    {
     "data": {
      "text/plain": [
       "'big data'"
      ]
     },
     "execution_count": 26,
     "metadata": {},
     "output_type": "execute_result"
    }
   ],
   "source": [
    "data1['subject'][1]"
   ]
  },
  {
   "cell_type": "code",
   "execution_count": 27,
   "id": "0f928d90",
   "metadata": {},
   "outputs": [],
   "source": [
    "data = [[\"name\", \"email_id\", \"number\"],\n",
    "        [\"ritesh\", \"ritesh@gmil.com\", 8707878731], \n",
    "        [\"krish\", \"krish@gmail.com\", \"9506351968\"]]"
   ]
  },
  {
   "cell_type": "code",
   "execution_count": 28,
   "id": "fbf6e594",
   "metadata": {},
   "outputs": [],
   "source": [
    "import csv"
   ]
  },
  {
   "cell_type": "code",
   "execution_count": 30,
   "id": "48f81fbc",
   "metadata": {},
   "outputs": [],
   "source": [
    "with open(\"test3.csv\", 'w') as f:\n",
    "    w = csv.writer(f)\n",
    "    for i in data:\n",
    "        w.writerow(i)"
   ]
  },
  {
   "cell_type": "code",
   "execution_count": 31,
   "id": "b3f8efc3",
   "metadata": {},
   "outputs": [
    {
     "name": "stdout",
     "output_type": "stream",
     "text": [
      "['name', 'email_id', 'number']\n",
      "[]\n",
      "['ritesh', 'ritesh@gmil.com', '8707878731']\n",
      "[]\n",
      "['krish', 'krish@gmail.com', '9506351968']\n",
      "[]\n"
     ]
    }
   ],
   "source": [
    "with open(\"test3.csv\", 'r') as f:\n",
    "    read = csv.reader(f)\n",
    "    for i in read:\n",
    "        print(i)"
   ]
  },
  {
   "cell_type": "code",
   "execution_count": 32,
   "id": "b2f7efda",
   "metadata": {},
   "outputs": [],
   "source": [
    "with open(\"test4.bin\", 'wb') as f:\n",
    "    f.write(b\"\\x01\\x02\\x03\")"
   ]
  },
  {
   "cell_type": "code",
   "execution_count": 33,
   "id": "1a84a290",
   "metadata": {},
   "outputs": [
    {
     "name": "stdout",
     "output_type": "stream",
     "text": [
      "b'\\x01\\x02\\x03'\n"
     ]
    }
   ],
   "source": [
    "with open(\"test4.bin\", \"rb\") as f:\n",
    "    print(f.read())"
   ]
  },
  {
   "cell_type": "markdown",
   "id": "875972c3",
   "metadata": {},
   "source": [
    "### Buffered Read And Write & Other File Methods"
   ]
  },
  {
   "cell_type": "code",
   "execution_count": 13,
   "id": "04cd6130",
   "metadata": {},
   "outputs": [],
   "source": [
    "import io"
   ]
  },
  {
   "cell_type": "code",
   "execution_count": 14,
   "id": "59d1d40e",
   "metadata": {},
   "outputs": [],
   "source": [
    "with open(\"test6.txt\", \"wb\") as f:\n",
    "    file = io.BufferedWriter(f)\n",
    "    file.write(b\"Data Science Masters course is highly currated and uniquely designed according to the latest industry standard\")\n",
    "    file.write(b\"this is my second line that I am trying to write\")\n",
    "    file.flush()"
   ]
  },
  {
   "cell_type": "code",
   "execution_count": 15,
   "id": "1ade9d16",
   "metadata": {},
   "outputs": [
    {
     "name": "stdout",
     "output_type": "stream",
     "text": [
      "b'Data Science Masters course is highly currated and uniquely designed according to the latest industry standardthis is my second line that I am trying to write'\n"
     ]
    }
   ],
   "source": [
    "with open(\"test6.txt\", \"rb\") as f:\n",
    "    file = io.BufferedReader(f)\n",
    "    data = file.read(1000)\n",
    "    print(data)"
   ]
  },
  {
   "cell_type": "markdown",
   "id": "bea79efb",
   "metadata": {},
   "source": [
    "### Logging & Debugger"
   ]
  },
  {
   "cell_type": "code",
   "execution_count": 1,
   "id": "070ece4b",
   "metadata": {},
   "outputs": [
    {
     "name": "stdout",
     "output_type": "stream",
     "text": [
      "this is my statement\n"
     ]
    }
   ],
   "source": [
    "print(\"this is my statement\")"
   ]
  },
  {
   "cell_type": "code",
   "execution_count": 2,
   "id": "be83fbd7",
   "metadata": {},
   "outputs": [],
   "source": [
    "import logging"
   ]
  },
  {
   "cell_type": "code",
   "execution_count": 3,
   "id": "5a31917a",
   "metadata": {},
   "outputs": [],
   "source": [
    "logging.basicConfig(filename = \"test7.log\", level = logging.INFO)"
   ]
  },
  {
   "cell_type": "code",
   "execution_count": 4,
   "id": "de4ebe95",
   "metadata": {},
   "outputs": [],
   "source": [
    "logging.info(\"this is my line of execution\")"
   ]
  },
  {
   "cell_type": "code",
   "execution_count": 5,
   "id": "22d68a39",
   "metadata": {},
   "outputs": [],
   "source": [
    "logging.error(\"this is my error\")"
   ]
  },
  {
   "cell_type": "code",
   "execution_count": 6,
   "id": "179500ad",
   "metadata": {},
   "outputs": [],
   "source": [
    "logging.critical(\"this is my critical\")"
   ]
  },
  {
   "cell_type": "code",
   "execution_count": 7,
   "id": "af74d323",
   "metadata": {},
   "outputs": [],
   "source": [
    "logging.shutdown()"
   ]
  },
  {
   "cell_type": "markdown",
   "id": "de343736",
   "metadata": {},
   "source": [
    "1. NOSET\n",
    "2. DEBUG\n",
    "3. INFO\n",
    "4. WARNING\n",
    "5. ERROR\n",
    "6. CRITICAL"
   ]
  },
  {
   "cell_type": "code",
   "execution_count": 8,
   "id": "cccd6f00",
   "metadata": {},
   "outputs": [],
   "source": [
    "logging.basicConfig(filename = \"test8.log\", level = logging.DEBUG, format = '%(asctime)s %(messsage)s')"
   ]
  },
  {
   "cell_type": "code",
   "execution_count": 9,
   "id": "acdb5b73",
   "metadata": {},
   "outputs": [],
   "source": [
    "logging.info(\"this is info log\")"
   ]
  },
  {
   "cell_type": "code",
   "execution_count": 10,
   "id": "a5f1caaf",
   "metadata": {},
   "outputs": [],
   "source": [
    "logging.debug(\"this is my debug log\")"
   ]
  },
  {
   "cell_type": "code",
   "execution_count": 11,
   "id": "57b149b7",
   "metadata": {},
   "outputs": [],
   "source": [
    "logging.warning(\"this is my warning\")"
   ]
  },
  {
   "cell_type": "code",
   "execution_count": 12,
   "id": "01ff34dc",
   "metadata": {},
   "outputs": [],
   "source": [
    "logging.shutdown()"
   ]
  },
  {
   "cell_type": "code",
   "execution_count": 13,
   "id": "37919a20",
   "metadata": {},
   "outputs": [],
   "source": [
    "logging.basicConfig(filename = \"test5.log\", level = logging.DEBUG, format = '%(asctime)s %(name)s %(levelname)s %(messsage)s')"
   ]
  },
  {
   "cell_type": "code",
   "execution_count": 14,
   "id": "28c3d79a",
   "metadata": {},
   "outputs": [],
   "source": [
    "logging.info(\"this is my info log\")"
   ]
  },
  {
   "cell_type": "code",
   "execution_count": 15,
   "id": "913d0889",
   "metadata": {},
   "outputs": [],
   "source": [
    "l = [1, 2, 3, 4, [4, 5, 6], \"ritesh\", \"kumar\"]"
   ]
  },
  {
   "cell_type": "code",
   "execution_count": 25,
   "id": "d1cccc6d",
   "metadata": {},
   "outputs": [],
   "source": [
    "l1_int = []\n",
    "l2_str = []\n",
    "for i in l:\n",
    "    logging.info(\"this is the start of my firdt for loop {}\".format(l))\n",
    "    logging.info(\"this is the value of i am logging {}\".format(i))\n",
    "    if type(i) == list:\n",
    "        for j in i:\n",
    "            logging.info(\"logging my j {j} ans i is {i}\".format(i = i, j = j))\n",
    "            if type(j) == int:\n",
    "                l1_int.append(j)\n",
    "    elif type(i) == int:\n",
    "        l1_int.append(i)\n",
    "    else:\n",
    "        if type(i) == str:\n",
    "            l2_str.append(i)\n",
    "logging.info(\"this is my final result with all int {l1}, with all\")"
   ]
  },
  {
   "cell_type": "code",
   "execution_count": 26,
   "id": "487629a0",
   "metadata": {},
   "outputs": [
    {
     "data": {
      "text/plain": [
       "[1, 2, 3, 4, 4, 5, 6]"
      ]
     },
     "execution_count": 26,
     "metadata": {},
     "output_type": "execute_result"
    }
   ],
   "source": [
    "l1_int"
   ]
  },
  {
   "cell_type": "code",
   "execution_count": 27,
   "id": "2aaccfdd",
   "metadata": {},
   "outputs": [
    {
     "data": {
      "text/plain": [
       "['ritesh', 'kumar']"
      ]
     },
     "execution_count": 27,
     "metadata": {},
     "output_type": "execute_result"
    }
   ],
   "source": [
    "l2_str"
   ]
  },
  {
   "cell_type": "markdown",
   "id": "44edf33e",
   "metadata": {},
   "source": [
    "### Modules and import statements"
   ]
  },
  {
   "cell_type": "code",
   "execution_count": null,
   "id": "f5ff25d1",
   "metadata": {},
   "outputs": [],
   "source": []
  }
 ],
 "metadata": {
  "kernelspec": {
   "display_name": "Python 3 (ipykernel)",
   "language": "python",
   "name": "python3"
  },
  "language_info": {
   "codemirror_mode": {
    "name": "ipython",
    "version": 3
   },
   "file_extension": ".py",
   "mimetype": "text/x-python",
   "name": "python",
   "nbconvert_exporter": "python",
   "pygments_lexer": "ipython3",
   "version": "3.9.13"
  }
 },
 "nbformat": 4,
 "nbformat_minor": 5
}
