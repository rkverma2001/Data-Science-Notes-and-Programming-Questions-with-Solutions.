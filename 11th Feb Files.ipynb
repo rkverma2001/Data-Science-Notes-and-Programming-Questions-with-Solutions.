{
 "cells": [
  {
   "cell_type": "code",
   "execution_count": 1,
   "id": "a6f3856a",
   "metadata": {},
   "outputs": [],
   "source": [
    "f = open(\"test.txt\", 'w')"
   ]
  },
  {
   "cell_type": "code",
   "execution_count": 2,
   "id": "91bb12cf",
   "metadata": {},
   "outputs": [
    {
     "data": {
      "text/plain": [
       "'C:\\\\Users\\\\Dell\\\\Data Science Masters Notes'"
      ]
     },
     "execution_count": 2,
     "metadata": {},
     "output_type": "execute_result"
    }
   ],
   "source": [
    "pwd"
   ]
  },
  {
   "cell_type": "code",
   "execution_count": 3,
   "id": "7724ae19",
   "metadata": {},
   "outputs": [
    {
     "name": "stdout",
     "output_type": "stream",
     "text": [
      " Volume in drive C is OS\n",
      " Volume Serial Number is 867B-D884\n",
      "\n",
      " Directory of C:\\Users\\Dell\\Data Science Masters Notes\n",
      "\n",
      "05/20/2023  09:33 PM    <DIR>          .\n",
      "05/15/2023  01:46 PM    <DIR>          ..\n",
      "05/20/2023  09:31 PM    <DIR>          .ipynb_checkpoints\n",
      "05/20/2023  09:25 PM            23,201 10th Feb Oops Concept.ipynb\n",
      "05/20/2023  09:33 PM             1,120 11th Feb Files.ipynb\n",
      "03/25/2023  02:05 PM             9,535 Dictionary.ipynb\n",
      "05/11/2023  09:36 PM             4,526 Encaptulation.ipynb\n",
      "03/31/2023  05:43 PM             3,966 Functions.ipynb\n",
      "05/11/2023  10:05 PM             4,689 Inheritance.ipynb\n",
      "05/09/2023  07:42 AM             8,126 Init Method Coding Ninjas.ipynb\n",
      "02/12/2023  09:18 PM            30,852 Intro to Python.ipynb\n",
      "05/06/2023  09:10 AM             8,650 OOPs with Coding Ninjas.ipynb\n",
      "04/07/2023  08:50 PM             4,834 OOPs.ipynb\n",
      "03/30/2023  09:52 PM            10,225 patterns.ipynb\n",
      "05/04/2023  04:48 PM             3,069 Polymorphism.ipynb\n",
      "05/01/2023  09:46 AM                64 README.md\n",
      "05/01/2023  08:55 AM             7,622 Recursion 1.ipynb\n",
      "05/03/2023  03:43 PM            11,398 Recursion 2.ipynb\n",
      "05/05/2023  12:16 PM             8,182 Recursion Asignment.ipynb\n",
      "02/11/2023  02:43 PM            17,825 String, Lists and Arrays.ipynb\n",
      "05/20/2023  09:33 PM                 0 test.txt\n",
      "05/16/2023  12:55 PM             2,964 Untitled.ipynb\n",
      "              19 File(s)        160,848 bytes\n",
      "               3 Dir(s)  52,050,800,640 bytes free\n"
     ]
    }
   ],
   "source": [
    "ls"
   ]
  },
  {
   "cell_type": "code",
   "execution_count": 4,
   "id": "cd7675b1",
   "metadata": {},
   "outputs": [
    {
     "data": {
      "text/plain": [
       "44"
      ]
     },
     "execution_count": 4,
     "metadata": {},
     "output_type": "execute_result"
    }
   ],
   "source": [
    "f.write(\"this is my first write operation in the file\")"
   ]
  },
  {
   "cell_type": "code",
   "execution_count": 5,
   "id": "3bbfb9b7",
   "metadata": {},
   "outputs": [],
   "source": [
    "f.close()"
   ]
  },
  {
   "cell_type": "code",
   "execution_count": null,
   "id": "1dc5d4e9",
   "metadata": {},
   "outputs": [],
   "source": []
  }
 ],
 "metadata": {
  "kernelspec": {
   "display_name": "Python 3 (ipykernel)",
   "language": "python",
   "name": "python3"
  },
  "language_info": {
   "codemirror_mode": {
    "name": "ipython",
    "version": 3
   },
   "file_extension": ".py",
   "mimetype": "text/x-python",
   "name": "python",
   "nbconvert_exporter": "python",
   "pygments_lexer": "ipython3",
   "version": "3.9.13"
  }
 },
 "nbformat": 4,
 "nbformat_minor": 5
}
