{
 "cells": [
  {
   "cell_type": "code",
   "execution_count": 11,
   "id": "c16a61e3",
   "metadata": {},
   "outputs": [],
   "source": [
    "class Student:\n",
    "    #name = \"\"\n",
    "    #rollNumber = 12\n",
    "    pass"
   ]
  },
  {
   "cell_type": "code",
   "execution_count": 12,
   "id": "6d9622b7",
   "metadata": {},
   "outputs": [],
   "source": [
    "s1 = Student()"
   ]
  },
  {
   "cell_type": "code",
   "execution_count": 13,
   "id": "25284a75",
   "metadata": {},
   "outputs": [
    {
     "name": "stdout",
     "output_type": "stream",
     "text": [
      "<__main__.Student object at 0x0000025342FE86A0> <__main__.Student object at 0x0000025342FE8EB0>\n"
     ]
    }
   ],
   "source": [
    "s2 = Student()\n",
    "s3 = Student()\n",
    "print(s2, s3)"
   ]
  },
  {
   "cell_type": "code",
   "execution_count": 14,
   "id": "86a683a4",
   "metadata": {},
   "outputs": [],
   "source": [
    "s1.name = \"Ritesh\""
   ]
  },
  {
   "cell_type": "code",
   "execution_count": 15,
   "id": "3363e0c4",
   "metadata": {},
   "outputs": [],
   "source": [
    "s2.rollNumber = 12"
   ]
  },
  {
   "cell_type": "code",
   "execution_count": null,
   "id": "79769d3f",
   "metadata": {},
   "outputs": [],
   "source": [
    "s3.name = \"Rohan\"\n",
    "s3.rollNumber = 13"
   ]
  }
 ],
 "metadata": {
  "kernelspec": {
   "display_name": "Python 3 (ipykernel)",
   "language": "python",
   "name": "python3"
  },
  "language_info": {
   "codemirror_mode": {
    "name": "ipython",
    "version": 3
   },
   "file_extension": ".py",
   "mimetype": "text/x-python",
   "name": "python",
   "nbconvert_exporter": "python",
   "pygments_lexer": "ipython3",
   "version": "3.9.13"
  }
 },
 "nbformat": 4,
 "nbformat_minor": 5
}
