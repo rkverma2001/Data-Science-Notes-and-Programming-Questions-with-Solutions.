{
 "cells": [
  {
   "cell_type": "markdown",
   "id": "24a57b79",
   "metadata": {},
   "source": [
    "### Replace Characters."
   ]
  },
  {
   "cell_type": "code",
   "execution_count": 1,
   "id": "03736a66",
   "metadata": {},
   "outputs": [],
   "source": [
    "def replaceChar(s, a, b):\n",
    "    if len(s) == 0:\n",
    "        return s \n",
    "    smallOutput = replaceChar(s[1:], a, b)\n",
    "    if s[0] == a:\n",
    "        return b + smallOutput\n",
    "    else:\n",
    "        return s[0] + smallOutput\n",
    "    "
   ]
  },
  {
   "cell_type": "code",
   "execution_count": 2,
   "id": "37229c68",
   "metadata": {},
   "outputs": [
    {
     "data": {
      "text/plain": [
       "'abdacaadvgcsaav'"
      ]
     },
     "execution_count": 2,
     "metadata": {},
     "output_type": "execute_result"
    }
   ],
   "source": [
    "replaceChar(\"abdxcxxdvgcsxxv\", 'x', 'a')"
   ]
  },
  {
   "cell_type": "markdown",
   "id": "8b510b5d",
   "metadata": {},
   "source": [
    "### Remove X"
   ]
  },
  {
   "cell_type": "code",
   "execution_count": 10,
   "id": "79be78f4",
   "metadata": {},
   "outputs": [],
   "source": [
    "def removeX(s):\n",
    "    if len(s) == 0:\n",
    "        return s\n",
    "    smallOutput = removeX(s[1:])\n",
    "    if s[0] == 'x':\n",
    "        return \"\"+smallOutput\n",
    "    else:\n",
    "        return s[0]+smallOutput "
   ]
  },
  {
   "cell_type": "code",
   "execution_count": 11,
   "id": "89ee0149",
   "metadata": {},
   "outputs": [
    {
     "data": {
      "text/plain": [
       "'abdcdvgcsv'"
      ]
     },
     "execution_count": 11,
     "metadata": {},
     "output_type": "execute_result"
    }
   ],
   "source": [
    "removeX(\"abdxcxxdvgcsxxv\")"
   ]
  },
  {
   "cell_type": "markdown",
   "id": "edba5287",
   "metadata": {},
   "source": [
    "### Replace Pi"
   ]
  },
  {
   "cell_type": "code",
   "execution_count": 18,
   "id": "fa71de3a",
   "metadata": {},
   "outputs": [],
   "source": [
    "def replacePi(s):\n",
    "    if len(s)==0 or len(s)==1:\n",
    "        return s\n",
    "    if s[0]=='p' and s[1]=='i':\n",
    "        smallOutput = replacePi(s[2:])\n",
    "        return \"3.14\" + smallOutput\n",
    "    else: \n",
    "        smallOutput = replacePi(s[1:])\n",
    "        return s[0] + smallOutput"
   ]
  },
  {
   "cell_type": "code",
   "execution_count": 19,
   "id": "c3f2cf79",
   "metadata": {},
   "outputs": [
    {
     "data": {
      "text/plain": [
       "'3.14pp'"
      ]
     },
     "execution_count": 19,
     "metadata": {},
     "output_type": "execute_result"
    }
   ],
   "source": [
    "replacePi(\"pipp\")"
   ]
  },
  {
   "cell_type": "markdown",
   "id": "640253c3",
   "metadata": {},
   "source": [
    "### Remove Duplicates Recursively"
   ]
  },
  {
   "cell_type": "code",
   "execution_count": 39,
   "id": "ac7b8771",
   "metadata": {},
   "outputs": [],
   "source": [
    "def removeDuplicates(s):\n",
    "    if len(s) == 0 or len(s)==1:\n",
    "        return s\n",
    "    smallOutput = removeDuplicates(s[1:])\n",
    "    if s[0] == s[1]:\n",
    "        return smallOutput\n",
    "    else:\n",
    "        return s[0]+smallOutput"
   ]
  },
  {
   "cell_type": "code",
   "execution_count": 41,
   "id": "c820bb46",
   "metadata": {
    "scrolled": true
   },
   "outputs": [
    {
     "data": {
      "text/plain": [
       "'xyzwz'"
      ]
     },
     "execution_count": 41,
     "metadata": {},
     "output_type": "execute_result"
    }
   ],
   "source": [
    "removeDuplicates(\"xxxyyyzwwzzz\")"
   ]
  },
  {
   "cell_type": "markdown",
   "id": "2d080b1c",
   "metadata": {},
   "source": [
    "### Binary Search Using Recursion\n"
   ]
  },
  {
   "cell_type": "code",
   "execution_count": 47,
   "id": "7b3780a6",
   "metadata": {},
   "outputs": [],
   "source": [
    "def binarySearch(a, x, si, ei):\n",
    "    if si>ei:\n",
    "        return -1\n",
    "    mid = (si+ei)//2\n",
    "    if a[mid] == x:\n",
    "        return mid\n",
    "    elif a[mid] > x:\n",
    "        return binarySearch(a, x, si, mid-1)\n",
    "    else:\n",
    "        return binarySearch(a, x, mid+1, ei)\n",
    "        "
   ]
  },
  {
   "cell_type": "code",
   "execution_count": 48,
   "id": "018bc2ed",
   "metadata": {},
   "outputs": [
    {
     "data": {
      "text/plain": [
       "-1"
      ]
     },
     "execution_count": 48,
     "metadata": {},
     "output_type": "execute_result"
    }
   ],
   "source": [
    "binarySearch([1, 3, 5, 7, 9, 11, 13, 15, 16, 17], 2, 0, 9)"
   ]
  },
  {
   "cell_type": "markdown",
   "id": "63bfccda",
   "metadata": {},
   "source": [
    "### Merge Sort"
   ]
  },
  {
   "cell_type": "code",
   "execution_count": 1,
   "id": "768c3ae8",
   "metadata": {},
   "outputs": [],
   "source": [
    "def merge(a1, a2, a):\n",
    "    i=0\n",
    "    j=0\n",
    "    k=0\n",
    "    while i<len(a1) and j<len(a2):\n",
    "        if a1[i] < a2[j]:\n",
    "            a[k] = a1[i]\n",
    "            k = k+1\n",
    "            i = i+1\n",
    "        else:\n",
    "            a[k] = a2[j]\n",
    "            k = k+1\n",
    "            j = j+1\n",
    "    while i<len(a1):\n",
    "        a[k] = a1[i]\n",
    "        k = k+1\n",
    "        i = i+1\n",
    "    while j<len(a2):\n",
    "        a[k] = a2[j]\n",
    "        k= k+1\n",
    "        j = j+1"
   ]
  },
  {
   "cell_type": "code",
   "execution_count": 4,
   "id": "fc363e92",
   "metadata": {},
   "outputs": [],
   "source": [
    "def merge_sort(a):\n",
    "    \n",
    "    if len(a) == 0 or len(a) == 1:\n",
    "        return\n",
    "        \n",
    "    mid = len(a)//2\n",
    "    a1 = a[0:mid]\n",
    "    a2 = a[mid:]\n",
    "    \n",
    "    merge_sort(a1)\n",
    "    merge_sort(a2)\n",
    "    \n",
    "    merge(a1, a2, a)"
   ]
  },
  {
   "cell_type": "code",
   "execution_count": 6,
   "id": "79a29967",
   "metadata": {},
   "outputs": [
    {
     "data": {
      "text/plain": [
       "[1, 3, 4, 5, 7, 9, 10]"
      ]
     },
     "execution_count": 6,
     "metadata": {},
     "output_type": "execute_result"
    }
   ],
   "source": [
    "a = [10, 5, 3, 1, 7, 9, 4]\n",
    "merge_sort(a)\n",
    "a"
   ]
  },
  {
   "cell_type": "markdown",
   "id": "2737b8c4",
   "metadata": {},
   "source": [
    "### Quick Sort"
   ]
  },
  {
   "cell_type": "code",
   "execution_count": 88,
   "id": "97a6c9cc",
   "metadata": {},
   "outputs": [],
   "source": [
    "def partition(a, si, ei):\n",
    "    pivot = a[si]\n",
    "    # Find number of elements smaller than pivot\n",
    "    c = 0\n",
    "    for i in range(si, ei+1):\n",
    "        if a[i] < pivot:\n",
    "            c = c+1\n",
    "        a[si+c], a[si] = a[si], a[si+c]\n",
    "        pivot_index = si + c\n",
    "        \n",
    "        i = si\n",
    "        j = ei\n",
    "        while i<j:\n",
    "            if a[i] < pivot:\n",
    "                i = i+1\n",
    "            elif a[j] >= pivot:\n",
    "                j = j-1\n",
    "            else:\n",
    "                a[i], a[j] = a[j], a[i]\n",
    "                i = i+1\n",
    "                j = j-1\n",
    "        return pivot_index\n",
    "    "
   ]
  },
  {
   "cell_type": "code",
   "execution_count": 89,
   "id": "0caa7427",
   "metadata": {},
   "outputs": [],
   "source": [
    "def quick_sort(a, si, ei):\n",
    "    if si >= ei:\n",
    "        return \n",
    "    \n",
    "    pivot_index = partition(a, si, ei)\n",
    "    quick_sort(a, si, pivot_index-1)\n",
    "    quick_sort(a, pivot_index+1, ei)"
   ]
  },
  {
   "cell_type": "code",
   "execution_count": 90,
   "id": "ac382c8b",
   "metadata": {},
   "outputs": [
    {
     "data": {
      "text/plain": [
       "[2, 1, 3, 4, 5, 6, 7, 8, 9, 10]"
      ]
     },
     "execution_count": 90,
     "metadata": {},
     "output_type": "execute_result"
    }
   ],
   "source": [
    "a = [6, 10, 9, 8, 7, 1, 3, 5, 4, 2]\n",
    "quick_sort(a, 0, len(a)-1)\n",
    "a"
   ]
  },
  {
   "cell_type": "code",
   "execution_count": 94,
   "id": "ae778165",
   "metadata": {},
   "outputs": [],
   "source": [
    "def partition(a, si, ei):\n",
    "    pivot = a[ei]\n",
    "    \n",
    "    i = si-1\n",
    "    for j in range(si, ei):\n",
    "        if a[j] <= pivot:\n",
    "            i = i+1\n",
    "            a[i], a[j] = a[j], a[i]\n",
    "            \n",
    "    a[i+1], a[ei] = a[ei], a[i+1]\n",
    "    \n",
    "    return i+1"
   ]
  },
  {
   "cell_type": "code",
   "execution_count": 97,
   "id": "92b1e117",
   "metadata": {},
   "outputs": [],
   "source": [
    "def quick_sort(a, si, ei):\n",
    "    if si >= ei:\n",
    "        return \n",
    "    \n",
    "    pivot_index = partition(a, si, ei)\n",
    "    quick_sort(a, si, pivot_index-1)\n",
    "    quick_sort(a, pivot_index+1, ei)"
   ]
  },
  {
   "cell_type": "code",
   "execution_count": 98,
   "id": "3d4c4fb6",
   "metadata": {},
   "outputs": [
    {
     "data": {
      "text/plain": [
       "[1, 2, 3, 4, 5, 6, 7, 8, 9, 10]"
      ]
     },
     "execution_count": 98,
     "metadata": {},
     "output_type": "execute_result"
    }
   ],
   "source": [
    "a = [6, 10, 9, 8, 7, 1, 3, 5, 4, 2]\n",
    "quick_sort(a, 0, len(a)-1)\n",
    "a"
   ]
  },
  {
   "cell_type": "markdown",
   "id": "7339cb56",
   "metadata": {},
   "source": [
    "### Tower of Hanoi"
   ]
  },
  {
   "cell_type": "code",
   "execution_count": 99,
   "id": "8c19e419",
   "metadata": {},
   "outputs": [],
   "source": [
    "def tower_hanoi(n, a, b, c):\n",
    "    if n == 1:\n",
    "        print(\"move 1st disk from\", a, \" to \", c)\n",
    "        return\n",
    "    tower_hanoi(n-1, a, c, b)\n",
    "    print(\"move \", n, \"th disk from \", a, \" to \", c)\n",
    "    tower_hanoi(n-1, b, a, c)"
   ]
  },
  {
   "cell_type": "code",
   "execution_count": 100,
   "id": "396f26f8",
   "metadata": {},
   "outputs": [
    {
     "name": "stdout",
     "output_type": "stream",
     "text": [
      "move 1st disk from s  to  h\n",
      "move  2 th disk from  s  to  d\n",
      "move 1st disk from h  to  d\n",
      "move  3 th disk from  s  to  h\n",
      "move 1st disk from d  to  s\n",
      "move  2 th disk from  d  to  h\n",
      "move 1st disk from s  to  h\n",
      "move  4 th disk from  s  to  d\n",
      "move 1st disk from h  to  d\n",
      "move  2 th disk from  h  to  s\n",
      "move 1st disk from d  to  s\n",
      "move  3 th disk from  h  to  d\n",
      "move 1st disk from s  to  h\n",
      "move  2 th disk from  s  to  d\n",
      "move 1st disk from h  to  d\n"
     ]
    }
   ],
   "source": [
    "tower_hanoi(4, \"s\", \"h\", \"d\")"
   ]
  },
  {
   "cell_type": "code",
   "execution_count": null,
   "id": "4de4af23",
   "metadata": {},
   "outputs": [],
   "source": []
  }
 ],
 "metadata": {
  "kernelspec": {
   "display_name": "Python 3 (ipykernel)",
   "language": "python",
   "name": "python3"
  },
  "language_info": {
   "codemirror_mode": {
    "name": "ipython",
    "version": 3
   },
   "file_extension": ".py",
   "mimetype": "text/x-python",
   "name": "python",
   "nbconvert_exporter": "python",
   "pygments_lexer": "ipython3",
   "version": "3.9.13"
  }
 },
 "nbformat": 4,
 "nbformat_minor": 5
}
