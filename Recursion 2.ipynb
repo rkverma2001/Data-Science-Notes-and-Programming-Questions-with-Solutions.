{
 "cells": [
  {
   "cell_type": "markdown",
   "id": "24a57b79",
   "metadata": {},
   "source": [
    "### Replace Characters."
   ]
  },
  {
   "cell_type": "code",
   "execution_count": 1,
   "id": "03736a66",
   "metadata": {},
   "outputs": [],
   "source": [
    "def replaceChar(s, a, b):\n",
    "    if len(s) == 0:\n",
    "        return s \n",
    "    smallOutput = replaceChar(s[1:], a, b)\n",
    "    if s[0] == a:\n",
    "        return b + smallOutput\n",
    "    else:\n",
    "        return s[0] + smallOutput\n",
    "    "
   ]
  },
  {
   "cell_type": "code",
   "execution_count": 2,
   "id": "37229c68",
   "metadata": {},
   "outputs": [
    {
     "data": {
      "text/plain": [
       "'abdacaadvgcsaav'"
      ]
     },
     "execution_count": 2,
     "metadata": {},
     "output_type": "execute_result"
    }
   ],
   "source": [
    "replaceChar(\"abdxcxxdvgcsxxv\", 'x', 'a')"
   ]
  },
  {
   "cell_type": "markdown",
   "id": "8b510b5d",
   "metadata": {},
   "source": [
    "### Remove X"
   ]
  },
  {
   "cell_type": "code",
   "execution_count": 10,
   "id": "79be78f4",
   "metadata": {},
   "outputs": [],
   "source": [
    "def removeX(s):\n",
    "    if len(s) == 0:\n",
    "        return s\n",
    "    smallOutput = removeX(s[1:])\n",
    "    if s[0] == 'x':\n",
    "        return \"\"+smallOutput\n",
    "    else:\n",
    "        return s[0]+smallOutput "
   ]
  },
  {
   "cell_type": "code",
   "execution_count": 11,
   "id": "89ee0149",
   "metadata": {},
   "outputs": [
    {
     "data": {
      "text/plain": [
       "'abdcdvgcsv'"
      ]
     },
     "execution_count": 11,
     "metadata": {},
     "output_type": "execute_result"
    }
   ],
   "source": [
    "removeX(\"abdxcxxdvgcsxxv\")"
   ]
  },
  {
   "cell_type": "markdown",
   "id": "edba5287",
   "metadata": {},
   "source": [
    "### Replace Pi"
   ]
  },
  {
   "cell_type": "code",
   "execution_count": 18,
   "id": "fa71de3a",
   "metadata": {},
   "outputs": [],
   "source": [
    "def replacePi(s):\n",
    "    if len(s)==0 or len(s)==1:\n",
    "        return s\n",
    "    if s[0]=='p' and s[1]=='i':\n",
    "        smallOutput = replacePi(s[2:])\n",
    "        return \"3.14\" + smallOutput\n",
    "    else: \n",
    "        smallOutput = replacePi(s[1:])\n",
    "        return s[0] + smallOutput"
   ]
  },
  {
   "cell_type": "code",
   "execution_count": 19,
   "id": "c3f2cf79",
   "metadata": {},
   "outputs": [
    {
     "data": {
      "text/plain": [
       "'3.14pp'"
      ]
     },
     "execution_count": 19,
     "metadata": {},
     "output_type": "execute_result"
    }
   ],
   "source": [
    "replacePi(\"pipp\")"
   ]
  },
  {
   "cell_type": "markdown",
   "id": "640253c3",
   "metadata": {},
   "source": [
    "### Remove Duplicates Recursively"
   ]
  },
  {
   "cell_type": "code",
   "execution_count": 39,
   "id": "ac7b8771",
   "metadata": {},
   "outputs": [],
   "source": [
    "def removeDuplicates(s):\n",
    "    if len(s) == 0 or len(s)==1:\n",
    "        return s\n",
    "    smallOutput = removeDuplicates(s[1:])\n",
    "    if s[0] == s[1]:\n",
    "        return smallOutput\n",
    "    else:\n",
    "        return s[0]+smallOutput"
   ]
  },
  {
   "cell_type": "code",
   "execution_count": 41,
   "id": "c820bb46",
   "metadata": {
    "scrolled": true
   },
   "outputs": [
    {
     "data": {
      "text/plain": [
       "'xyzwz'"
      ]
     },
     "execution_count": 41,
     "metadata": {},
     "output_type": "execute_result"
    }
   ],
   "source": [
    "removeDuplicates(\"xxxyyyzwwzzz\")"
   ]
  },
  {
   "cell_type": "markdown",
   "id": "2d080b1c",
   "metadata": {},
   "source": [
    "### Binary Search Using Recursion\n"
   ]
  },
  {
   "cell_type": "code",
   "execution_count": 47,
   "id": "7b3780a6",
   "metadata": {},
   "outputs": [],
   "source": [
    "def binarySearch(a, x, si, ei):\n",
    "    if si>ei:\n",
    "        return -1\n",
    "    mid = (si+ei)//2\n",
    "    if a[mid] == x:\n",
    "        return mid\n",
    "    elif a[mid] > x:\n",
    "        return binarySearch(a, x, si, mid-1)\n",
    "    else:\n",
    "        return binarySearch(a, x, mid+1, ei)\n",
    "        "
   ]
  },
  {
   "cell_type": "code",
   "execution_count": 48,
   "id": "018bc2ed",
   "metadata": {},
   "outputs": [
    {
     "data": {
      "text/plain": [
       "-1"
      ]
     },
     "execution_count": 48,
     "metadata": {},
     "output_type": "execute_result"
    }
   ],
   "source": [
    "binarySearch([1, 3, 5, 7, 9, 11, 13, 15, 16, 17], 2, 0, 9)"
   ]
  },
  {
   "cell_type": "markdown",
   "id": "63bfccda",
   "metadata": {},
   "source": [
    "### Merge Sort"
   ]
  },
  {
   "cell_type": "code",
   "execution_count": null,
   "id": "fc363e92",
   "metadata": {},
   "outputs": [],
   "source": []
  }
 ],
 "metadata": {
  "kernelspec": {
   "display_name": "Python 3 (ipykernel)",
   "language": "python",
   "name": "python3"
  },
  "language_info": {
   "codemirror_mode": {
    "name": "ipython",
    "version": 3
   },
   "file_extension": ".py",
   "mimetype": "text/x-python",
   "name": "python",
   "nbconvert_exporter": "python",
   "pygments_lexer": "ipython3",
   "version": "3.9.13"
  }
 },
 "nbformat": 4,
 "nbformat_minor": 5
}
