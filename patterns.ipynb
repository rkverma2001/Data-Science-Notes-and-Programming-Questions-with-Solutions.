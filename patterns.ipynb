{
 "cells": [
  {
   "cell_type": "raw",
   "id": "daa1ac2e",
   "metadata": {},
   "source": [
    "* * * * *\n",
    "* * * * *\n",
    "* * * * *\n",
    "* * * * *\n",
    "* * * * *"
   ]
  },
  {
   "cell_type": "code",
   "execution_count": 1,
   "id": "23414ff6",
   "metadata": {},
   "outputs": [
    {
     "name": "stdout",
     "output_type": "stream",
     "text": [
      "Enter the side of rectangle5\n",
      "* * * * * \n",
      "* * * * * \n",
      "* * * * * \n",
      "* * * * * \n",
      "* * * * * \n"
     ]
    }
   ],
   "source": [
    "n = int(input(\"Enter the side of rectangle\"))\n",
    "i = 1\n",
    "while i<=n:\n",
    "    j = 1\n",
    "    while j<=n:\n",
    "        print(\"*\", end=\" \")\n",
    "        j = j + 1\n",
    "    print()\n",
    "    i = i + 1"
   ]
  },
  {
   "cell_type": "raw",
   "id": "4a7c0b64",
   "metadata": {},
   "source": [
    "*\n",
    "**\n",
    "***\n",
    "****\n",
    "*****"
   ]
  },
  {
   "cell_type": "code",
   "execution_count": 3,
   "id": "d3f18e41",
   "metadata": {},
   "outputs": [
    {
     "name": "stdout",
     "output_type": "stream",
     "text": [
      "Enter the value of n:5\n",
      "*\n",
      "**\n",
      "***\n",
      "****\n",
      "*****\n"
     ]
    }
   ],
   "source": [
    "n = int(input(\"Enter the value of n:\"))\n",
    "i = 1\n",
    "while i<=n:\n",
    "    j = 1\n",
    "    while j<=i:\n",
    "        print(\"*\", end=\"\")\n",
    "        j = j + 1\n",
    "    print()\n",
    "    i = i + 1"
   ]
  },
  {
   "cell_type": "raw",
   "id": "75673525",
   "metadata": {},
   "source": [
    "*****\n",
    "****\n",
    "***\n",
    "**\n",
    "*"
   ]
  },
  {
   "cell_type": "code",
   "execution_count": 4,
   "id": "d7402610",
   "metadata": {},
   "outputs": [
    {
     "name": "stdout",
     "output_type": "stream",
     "text": [
      "Enter the value of n:5\n",
      "*****\n",
      "****\n",
      "***\n",
      "**\n",
      "*\n"
     ]
    }
   ],
   "source": [
    "n = int(input(\"Enter the value of n:\"))\n",
    "i = n\n",
    "while i>=1:\n",
    "    j = 1\n",
    "    while j<=i:\n",
    "        print(\"*\", end=\"\")\n",
    "        j = j + 1\n",
    "    print()\n",
    "    i = i - 1"
   ]
  },
  {
   "cell_type": "raw",
   "id": "4c22f3e1",
   "metadata": {},
   "source": [
    "1\n",
    "1 2\n",
    "1 2 3\n",
    "1 2 3 4\n",
    "1 2 3 4 5"
   ]
  },
  {
   "cell_type": "code",
   "execution_count": 5,
   "id": "1f886ab3",
   "metadata": {},
   "outputs": [
    {
     "name": "stdout",
     "output_type": "stream",
     "text": [
      "Enter the value of n:5\n",
      "1 \n",
      "1 2 \n",
      "1 2 3 \n",
      "1 2 3 4 \n",
      "1 2 3 4 5 \n"
     ]
    }
   ],
   "source": [
    "n = int(input(\"Enter the value of n:\"))\n",
    "i = 1\n",
    "while i<=n:\n",
    "    j = 1\n",
    "    while j<=i:\n",
    "        print(j, end=\" \")\n",
    "        j = j + 1\n",
    "    print()\n",
    "    i = i + 1"
   ]
  },
  {
   "cell_type": "raw",
   "id": "85d5a13e",
   "metadata": {},
   "source": [
    "*\n",
    "**\n",
    "***\n",
    "****\n",
    "*****\n",
    "****\n",
    "***\n",
    "**\n",
    "*"
   ]
  },
  {
   "cell_type": "code",
   "execution_count": 7,
   "id": "7228ed4b",
   "metadata": {},
   "outputs": [
    {
     "name": "stdout",
     "output_type": "stream",
     "text": [
      "Enter the value of n:5\n",
      "*\n",
      "**\n",
      "***\n",
      "****\n",
      "*****\n",
      "****\n",
      "***\n",
      "**\n",
      "*\n"
     ]
    }
   ],
   "source": [
    "n = int(input(\"Enter the value of n:\"))\n",
    "i = 1\n",
    "while i<=n:\n",
    "    j = 1\n",
    "    while j<=i:\n",
    "        print(\"*\", end=\"\")\n",
    "        j = j + 1\n",
    "    print()\n",
    "    i = i + 1\n",
    "# Second triangle\n",
    "i = n-1\n",
    "while i>=1:\n",
    "    j = 1\n",
    "    while j<=i:\n",
    "        print(\"*\", end=\"\")\n",
    "        j = j + 1\n",
    "    print()\n",
    "    i = i - 1"
   ]
  },
  {
   "cell_type": "raw",
   "id": "1fa945b2",
   "metadata": {},
   "source": [
    "    *\n",
    "   **\n",
    "  ***\n",
    " ****\n",
    "*****"
   ]
  },
  {
   "cell_type": "raw",
   "id": "dbc0c965",
   "metadata": {},
   "source": [
    "*****\n",
    " ****\n",
    "  ***\n",
    "   **\n",
    "    *"
   ]
  },
  {
   "cell_type": "raw",
   "id": "27f7c5e4",
   "metadata": {},
   "source": [
    "\n",
    "    *\n",
    "   ***\n",
    "  *****\n",
    " *******\n",
    "*********"
   ]
  },
  {
   "cell_type": "raw",
   "id": "5faa33ef",
   "metadata": {},
   "source": [
    "*********\n",
    " *******\n",
    "  *****\n",
    "   ***\n",
    "    *"
   ]
  },
  {
   "cell_type": "raw",
   "id": "b1e0cddb",
   "metadata": {},
   "source": [
    "    *\n",
    "   * *\n",
    "  * * *\n",
    " * * * *\n",
    "* * * * *"
   ]
  },
  {
   "cell_type": "raw",
   "id": "35b0f8cd",
   "metadata": {},
   "source": [
    "* * * * *\n",
    " * * * *\n",
    "  * * *\n",
    "   * *\n",
    "    *"
   ]
  },
  {
   "cell_type": "raw",
   "id": "ae4abb86",
   "metadata": {},
   "source": [
    "* * * * *\n",
    " * * * *\n",
    "  * * *\n",
    "   * *\n",
    "    *\n",
    "    *\n",
    "   * *\n",
    "  * * *\n",
    " * * * *\n",
    "* * * * *"
   ]
  },
  {
   "cell_type": "raw",
   "id": "0c6fe183",
   "metadata": {},
   "source": [
    "    *\n",
    "   * *\n",
    "  *   *\n",
    " *     *\n",
    "*********"
   ]
  },
  {
   "cell_type": "raw",
   "id": "41d74893",
   "metadata": {},
   "source": [
    "*********\n",
    " *     *\n",
    "  *   *\n",
    "   * *\n",
    "    *"
   ]
  },
  {
   "cell_type": "raw",
   "id": "e32768ea",
   "metadata": {},
   "source": [
    "    *\n",
    "   * *\n",
    "  *   *\n",
    " *     *\n",
    "*       *\n",
    " *     *\n",
    "  *   *\n",
    "   * *\n",
    "    *"
   ]
  },
  {
   "cell_type": "raw",
   "id": "eb63a415",
   "metadata": {},
   "source": [
    "        1\n",
    "      1   1\n",
    "    1   2   1\n",
    "  1   3   3   1\n",
    "1   4   6   4   1\n"
   ]
  },
  {
   "cell_type": "raw",
   "id": "948c3cbf",
   "metadata": {},
   "source": [
    "   1\n",
    "  212\n",
    " 32123\n",
    "4321234\n",
    " 32123\n",
    "  212\n",
    "   1"
   ]
  },
  {
   "cell_type": "raw",
   "id": "3f54fe92",
   "metadata": {},
   "source": [
    "**********\n",
    "****  ****\n",
    "***    ***\n",
    "**      **\n",
    "*        *\n",
    "*        *\n",
    "**      **\n",
    "***    ***\n",
    "****  ****\n",
    "**********"
   ]
  },
  {
   "cell_type": "raw",
   "id": "2967a23a",
   "metadata": {},
   "source": [
    "*        *\n",
    "**      **\n",
    "***    ***\n",
    "****  ****\n",
    "**********\n",
    "****  ****\n",
    "***    ***\n",
    "**      **\n",
    "*        *"
   ]
  },
  {
   "cell_type": "raw",
   "id": "525e3664",
   "metadata": {},
   "source": [
    "****\n",
    "*  *\n",
    "*  *\n",
    "*  *\n",
    "****"
   ]
  },
  {
   "cell_type": "raw",
   "id": "0d93abbe",
   "metadata": {},
   "source": [
    "1\n",
    "2  3\n",
    "4  5  6\n",
    "7  8  9  10\n",
    "11 12 13 14 15"
   ]
  },
  {
   "cell_type": "raw",
   "id": "f3cc5a50",
   "metadata": {},
   "source": [
    "1\n",
    "0 1\n",
    "1 0 1\n",
    "0 1 0 1\n",
    "1 0 1 0 1"
   ]
  },
  {
   "cell_type": "raw",
   "id": "bc32b1da",
   "metadata": {},
   "source": [
    "    *      *\n",
    "  *   *  *   *\n",
    "*      *      *"
   ]
  },
  {
   "cell_type": "raw",
   "id": "64276a54",
   "metadata": {},
   "source": [
    "*        *\n",
    "**      **\n",
    "* *    * *\n",
    "*  *  *  *\n",
    "*   **   *\n",
    "*   **   *\n",
    "*  *  *  *\n",
    "* *    * *\n",
    "**      **\n",
    "*        *"
   ]
  },
  {
   "cell_type": "raw",
   "id": "88b7d6a2",
   "metadata": {},
   "source": [
    "    *****\n",
    "   *   *\n",
    "  *   *\n",
    " *   *\n",
    "*****"
   ]
  },
  {
   "cell_type": "raw",
   "id": "5825b1e7",
   "metadata": {},
   "source": [
    "1 1 1 1 1 1\n",
    "2 2 2 2 2\n",
    "3 3 3 3\n",
    "4 4 4\n",
    "5 5\n",
    "6"
   ]
  },
  {
   "cell_type": "raw",
   "id": "37d21cb3",
   "metadata": {},
   "source": [
    "1 2 3 4  17 18 19 20\n",
    "  5 6 7  14 15 16\n",
    "    8 9  12 13\n",
    "      10 11"
   ]
  },
  {
   "cell_type": "raw",
   "id": "ede3a946",
   "metadata": {},
   "source": [
    "    *\n",
    "   * *\n",
    "  * * *\n",
    " * * * *\n",
    "* * * * *\n",
    " * * * *\n",
    "  * * *\n",
    "   * *\n",
    "    *"
   ]
  },
  {
   "cell_type": "raw",
   "id": "2b98df60",
   "metadata": {},
   "source": [
    "        1\n",
    "      2 1 2\n",
    "    3 2 1 2 3\n",
    "  4 3 2 1 2 3 4\n",
    "5 4 3 2 1 2 3 4 5"
   ]
  },
  {
   "cell_type": "raw",
   "id": "974ef1e9",
   "metadata": {},
   "source": [
    "4 4 4 4 4 4 4  \n",
    "4 3 3 3 3 3 4   \n",
    "4 3 2 2 2 3 4   \n",
    "4 3 2 1 2 3 4   \n",
    "4 3 2 2 2 3 4   \n",
    "4 3 3 3 3 3 4   \n",
    "4 4 4 4 4 4 4"
   ]
  },
  {
   "cell_type": "raw",
   "id": "0f7e9b58",
   "metadata": {},
   "source": [
    "E\n",
    "D E\n",
    "C D E\n",
    "B C D E\n",
    "A B C D E"
   ]
  },
  {
   "cell_type": "raw",
   "id": "b712945c",
   "metadata": {},
   "source": [
    "a\n",
    "B c\n",
    "D e F\n",
    "g H i J\n",
    "k L m N o"
   ]
  },
  {
   "cell_type": "raw",
   "id": "bf132f3f",
   "metadata": {},
   "source": [
    "E D C B A\n",
    "D C B A\n",
    "C B A\n",
    "B A\n",
    "A"
   ]
  },
  {
   "cell_type": "raw",
   "id": "6c8d7b91",
   "metadata": {},
   "source": [
    "1      1\n",
    "12    21\n",
    "123  321\n",
    "12344321"
   ]
  }
 ],
 "metadata": {
  "kernelspec": {
   "display_name": "Python 3 (ipykernel)",
   "language": "python",
   "name": "python3"
  },
  "language_info": {
   "codemirror_mode": {
    "name": "ipython",
    "version": 3
   },
   "file_extension": ".py",
   "mimetype": "text/x-python",
   "name": "python",
   "nbconvert_exporter": "python",
   "pygments_lexer": "ipython3",
   "version": "3.9.13"
  }
 },
 "nbformat": 4,
 "nbformat_minor": 5
}
