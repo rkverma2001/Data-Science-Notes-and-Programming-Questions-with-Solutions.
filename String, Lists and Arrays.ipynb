{
 "cells": [
  {
   "cell_type": "raw",
   "id": "1c73c769",
   "metadata": {},
   "source": [
    "Check Palindrome\n",
    "Send Feedback\n",
    "Given a string, determine if it is a palindrome, considering only alphanumeric characters.\n",
    "Palindrome\n",
    "A palindrome is a word, number, phrase, or other sequences of characters which read the same backwards and forwards.\n",
    "Example:\n",
    "If the input string happens to be, \"malayalam\" then as we see that this word can be read the same as forward and backwards, it is said to be a valid palindrome.\n",
    "\n",
    "The expected output for this example will print, 'true'.\n",
    "From that being said, you are required to return a boolean value from the function that has been asked to implement.\n",
    "Input Format:\n",
    "The first and only line of input contains a string without any leading and trailing spaces. All the characters in the string would be in lower case.\n",
    "Output Format:\n",
    "The only line of output prints either 'true' or 'false'.\n",
    "Note:\n",
    "You are not required to print anything. It has already been taken care of.\n",
    "Constraints:\n",
    "0 <= N <= 10^6\n",
    "Where N is the length of the input string.\n",
    "\n",
    "Time Limit: 1 second\n",
    "Sample Input 1 :\n",
    "abcdcba\n",
    "Sample Output 1 :\n",
    "true \n",
    "Sample Input 2:\n",
    "coding\n",
    "Sample Output 2:\n",
    "false\n"
   ]
  },
  {
   "cell_type": "code",
   "execution_count": 1,
   "id": "ff680eaa",
   "metadata": {
    "scrolled": false
   },
   "outputs": [
    {
     "name": "stdout",
     "output_type": "stream",
     "text": [
      "abcdcba\n",
      "true\n"
     ]
    }
   ],
   "source": [
    "a=input()\n",
    "s= a[len(a)::-1]\n",
    "if s==a:\n",
    "    print(\"true\")\n",
    "else:\n",
    "    print(\"false\")"
   ]
  },
  {
   "cell_type": "raw",
   "id": "7f16c874",
   "metadata": {},
   "source": [
    "Print all substrings\n",
    "Send Feedback\n",
    "For a given input string(str), write a function to print all the possible substrings.\n",
    "Substring\n",
    "A substring is a contiguous sequence of characters within a string. \n",
    "Example: \"cod\" is a substring of \"coding\". Whereas, \"cdng\" is not as the characters taken are not contiguous\n",
    "Input Format:\n",
    "The first and only line of input contains a string without any leading and trailing spaces. All the characters in the string would be in lower case.\n",
    "Output Format:\n",
    "Print the total number of substrings possible, where every substring is printed on a single line and hence the total number of output lines will be equal to the total number of substrings.\n",
    "Note:\n",
    "The order in which the substrings are printed, does not matter.\n",
    "Constraints:\n",
    "0 <= N <= 10^6\n",
    "Where N is the length of the input string.\n",
    "\n",
    "Time Limit: 1 second\n",
    "Sample Input 1:\n",
    "abc\n",
    "Sample Output 1:\n",
    "a \n",
    "ab \n",
    "abc \n",
    "b \n",
    "bc \n",
    "c \n",
    " Sample Input 2:\n",
    "co\n",
    "Sample Output 2:\n",
    "c \n",
    "co \n",
    "o\n"
   ]
  },
  {
   "cell_type": "code",
   "execution_count": 2,
   "id": "68682128",
   "metadata": {},
   "outputs": [
    {
     "name": "stdout",
     "output_type": "stream",
     "text": [
      "abc\n",
      "a\n",
      "ab\n",
      "abc\n",
      "b\n",
      "bc\n",
      "c\n"
     ]
    }
   ],
   "source": [
    "a = input()\n",
    "for i in range(len(a)):\n",
    "    for j in range(i+1,len(a)+1):\n",
    "        s = a[i:j]\n",
    "        print(s)\n",
    "#         print()"
   ]
  },
  {
   "cell_type": "raw",
   "id": "fc644d77",
   "metadata": {},
   "source": [
    "Swap Alternate\n",
    "Send Feedback\n",
    "You have been given an array/list(ARR) of size N. You need to swap every pair of alternate elements in the array/list.\n",
    "You don't need to print or return anything, just change in the input array itself.\n",
    "Input Format :\n",
    "The first line contains an Integer 't' which denotes the number of test cases or queries to be run. Then the test cases follow.\n",
    "\n",
    "First line of each test case or query contains an integer 'N' representing the size of the array/list.\n",
    "\n",
    "Second line contains 'N' single space separated integers representing the elements in the array/list.\n",
    "Output Format :\n",
    "For each test case, print the elements of the resulting array in a single row separated by a single space.\n",
    "\n",
    "Output for every test case will be printed in a separate line.\n",
    "Constraints :\n",
    "1 <= t <= 10^2\n",
    "0 <= N <= 10^5\n",
    "Time Limit: 1sec\n",
    "Sample Input 1:\n",
    "1\n",
    "6\n",
    "9 3 6 12 4 32\n",
    "Sample Output 1 :\n",
    "3 9 12 6 32 4\n",
    "Sample Input 2:\n",
    "2\n",
    "9\n",
    "9 3 6 12 4 32 5 11 19\n",
    "4\n",
    "1 2 3 4\n",
    "Sample Output 2 :\n",
    "3 9 12 6 32 4 11 5 19 \n",
    "2 1 4 3 \n"
   ]
  },
  {
   "cell_type": "code",
   "execution_count": null,
   "id": "3ff5adec",
   "metadata": {
    "scrolled": true
   },
   "outputs": [],
   "source": [
    "for t in range(int(input())):\n",
    "    s = int(input())\n",
    "    a = [int(x) for x in input().split()]\n",
    "    l = len(a)\n",
    "    j=0\n",
    "    if l%2==0:\n",
    "        while j<l:\n",
    "            temp = a[j]\n",
    "            a[j] = a[j+1]\n",
    "            a[j+1] = temp\n",
    "            j=j+2\n",
    "    else:\n",
    "        while j<l-1:\n",
    "            temp = a[j]\n",
    "            a[j] = a[j+1]\n",
    "            a[j+1] = temp\n",
    "            j=j+2\n",
    "    for i in a:\n",
    "        print(i,end =' ')\n"
   ]
  },
  {
   "cell_type": "raw",
   "id": "87ed49ac",
   "metadata": {},
   "source": [
    "Array equilibrium index\n",
    "Send Feedback\n",
    "For a given array/list(ARR) of size 'N,' find and return the 'Equilibrium Index' of the array/list.\n",
    "Equilibrium Index of an array/list is an index 'i' such that the sum of elements at indices [0 to (i - 1)] is equal to the sum of elements at indices [(i + 1) to (N-1)]. One thing to note here is, the item at the index 'i' is not included in either part.\n",
    "If more than one equilibrium indices are present, then the index appearing first in left to right fashion should be returned. Negative one(-1) if no such index is present.\n",
    "Example:\n",
    "Let's consider an array/list Arr = [2, 3, 10, -10, 4, 2, 9]  of size, N = 7.\n",
    "\n",
    "There exist two equilibrium indices, one at 2 and another at 3.\n",
    "\n",
    "At index 2, the sum of all the elements to the left, [2 + 3] is 5, and the elements to its right, [-10 + 4 + 2 + 9] is also 5. Hence index 2 is an equilibrium index according to the condition we want to achieve. Mind it that we haven't included the item at index 2, which is 10, to either of the parts.\n",
    "\n",
    "Similarly, we can see at index 3, the elements to its left sum up to 15 and to the right, sum up to 15 either. \n",
    "\n",
    "Since index 2 comes early in the order, left to right, the answer would be 2.\n",
    "Input Format :\n",
    "The first line contains an Integer 't' which denotes the number of test cases or queries to be run. Then the test cases follow.\n",
    "\n",
    "The first line of each test case or query contains an integer 'N' representing the size of the first array/list.\n",
    "\n",
    "The second line contains 'N' single space separated integers representing the elements of the array/list\n",
    "Output Format :\n",
    "For each test case, print the 'Equilibrium Index'.\n",
    "\n",
    "Output for every test case will be printed in a separate line.\n",
    "Constraints :\n",
    "1 <= t <= 10^2\n",
    "0 <= N <= 10^6\n",
    "\n",
    "Time Limit: 1 sec \n",
    "Sample Input 1 :\n",
    "1\n",
    "5\n",
    "1 4 9 3 2\n",
    "Sample Output 1 :\n",
    "2\n",
    "Sample Input 2 :\n",
    "2\n",
    "3\n",
    "1 4 6\n",
    "3\n",
    "1 -1 4\n",
    "Sample Output 2 :\n",
    "-1\n",
    "2\n"
   ]
  },
  {
   "cell_type": "code",
   "execution_count": null,
   "id": "fdc03ca6",
   "metadata": {},
   "outputs": [],
   "source": [
    "for t in range(int(input())):\n",
    "    s = int(input())\n",
    "    a = [int(x) for x in input().split()]\n",
    "    leftsum = 0\n",
    "    rightsum = 0\n",
    "    n = len(a)\n",
    "    for i in range(n):\n",
    "        leftsum = 0\n",
    "        rightsum = 0\n",
    "        for j in range(i):\n",
    "            leftsum += a[j]\n",
    "        for j in range(i + 1, n):\n",
    "            rightsum += a[j]\n",
    "        if leftsum == rightsum:\n",
    "            print(i)\n",
    "    print(\"-1\")"
   ]
  },
  {
   "cell_type": "code",
   "execution_count": 1,
   "id": "d831ce9a",
   "metadata": {},
   "outputs": [
    {
     "name": "stdout",
     "output_type": "stream",
     "text": [
      "0\n",
      "10\n",
      "20\n",
      "30\n",
      "40\n"
     ]
    }
   ],
   "source": [
    "def print_column_wise_sum(a):\n",
    "    m = len(a)\n",
    "    if m == 0:\n",
    "        return\n",
    "    n = len(a[0])\n",
    "    for j in range(n):\n",
    "        sum_j = 0\n",
    "        for i in range(m):\n",
    "            sum_j = sum_j + a[i][j]\n",
    "        print(sum_j)\n",
    "a = [[j for j in range(5)] for i in range(10)]\n",
    "print_column_wise_sum(a)"
   ]
  },
  {
   "cell_type": "raw",
   "id": "dda87d9f",
   "metadata": {},
   "source": [
    "Row wise sum\n",
    "Send Feedback\n",
    "For a given two-dimensional integer array/list of size (N x M), find and print the sum of each of the row elements in a single line, separated by a single space.\n",
    "Input Format :\n",
    "The first line contains an Integer 't' which denotes the number of test cases or queries to be run. Then the test cases follow.\n",
    "\n",
    "First line of each test case or query contains two integer values, 'N' and 'M', separated by a single space. They represent the 'rows' and 'columns' respectively, for the two-dimensional array/list.\n",
    "\n",
    "Second line onwards, the next 'N' lines or rows represent the ith row values.\n",
    "\n",
    "Each of the ith row constitutes 'M' column values separated by a single space.\n",
    "Output Format :\n",
    "For each test case, print the sum of every ith row elements in a single line separated by a single space.\n",
    "\n",
    "Output for every test case will be printed in a seperate line.\n",
    "Constraints :\n",
    "1 <= t <= 10^2\n",
    "0 <= N <= 10^3\n",
    "0 <= M <= 10^3\n",
    "Time Limit: 1sec\n",
    "Sample Input 1:\n",
    "1\n",
    "4 2 \n",
    "1 2 \n",
    "3 4 \n",
    "5 6 \n",
    "7 8\n",
    "Sample Output 1:\n",
    "3 7 11 15 \n",
    "Sample Input 2:\n",
    "2\n",
    "2 5 \n",
    "4 5 3 2 6 \n",
    "7 5 3 8 9\n",
    "4 4\n",
    "1 2 3 4\n",
    "9 8 7 6\n",
    "3 4 5 6\n",
    "-1 1 -10 5\n",
    "Sample Output 2:\n",
    "20 32 \n",
    "10 30 18 -5 \n"
   ]
  },
  {
   "cell_type": "code",
   "execution_count": 2,
   "id": "5b0da11c",
   "metadata": {},
   "outputs": [
    {
     "name": "stdout",
     "output_type": "stream",
     "text": [
      "2\n",
      "2 5\n",
      "4 5 3 2 6\n",
      "7 5 3 8 9\n",
      "20 32 4 4\n",
      "1 2 3 4\n",
      "9 8 7 6\n",
      "3 4 5 6\n",
      "-1 1 -10 5\n",
      "10 30 18 -5 "
     ]
    }
   ],
   "source": [
    "def print_row_wise_sum(a):\n",
    "    m = len(a)\n",
    "    if m == 0:\n",
    "        return\n",
    "    n = len(a[0])\n",
    "    for i in range(m):\n",
    "        sum_j = 0\n",
    "        for j in range(n):\n",
    "            sum_j = sum_j + a[i][j]\n",
    "        print(sum_j, end=' ')\n",
    "        \n",
    "for t in range(int(input())):\n",
    "    sizes = input().split()\n",
    "    m = int(sizes[0])\n",
    "    n = int(sizes[1])\n",
    "    l = []\n",
    "    for i in range(m):\n",
    "        next_row = [int(i) for i in input().split()]\n",
    "        l.append(next_row)\n",
    "    print_row_wise_sum(l)"
   ]
  },
  {
   "cell_type": "raw",
   "id": "c8a909cc",
   "metadata": {},
   "source": [
    "Wave Print\n",
    "Send Feedback\n",
    "For a given two-dimensional integer array/list of size (N x M), print the array/list in a sine wave order, i.e, print the first column top to bottom, next column bottom to top and so on.\n",
    "Input format :\n",
    "The first line contains an Integer 't' which denotes the number of test cases or queries to be run. Then the test cases follow.\n",
    "\n",
    "First line of each test case or query contains two integer values, 'N' and 'M', separated by a single space. They represent the 'rows' and 'columns' respectively, for the two-dimensional array/list.\n",
    "\n",
    "Second line onwards, the next 'N' lines or rows represent the ith row values.\n",
    "\n",
    "Each of the ith row constitutes 'M' column values separated by a single space.\n",
    "Output format :\n",
    "For each test case, print the elements of the two-dimensional array/list in the sine wave order in a single line, separated by a single space.\n",
    "\n",
    "Output for every test case will be printed in a seperate line.\n",
    "Constraints :\n",
    "1 <= t <= 10^2\n",
    "0 <= N <= 10^3\n",
    "0 <= M <= 10^3\n",
    "Time Limit: 1sec\n",
    "Sample Input 1:\n",
    "1\n",
    "3 4 \n",
    "1  2  3  4 \n",
    "5  6  7  8 \n",
    "9 10 11 12\n",
    "Sample Output 1:\n",
    "1 5 9 10 6 2 3 7 11 12 8 4\n",
    "Sample Input 2:\n",
    "2\n",
    "5 3 \n",
    "1 2 3 \n",
    "4 5 6 \n",
    "7 8 9 \n",
    "10 11 12 \n",
    "13 14 15\n",
    "3 3\n",
    "10 20 30 \n",
    "40 50 60\n",
    "70 80 90\n",
    "Sample Output 2:\n",
    "1 4 7 10 13 14 11 8 5 2 3 6 9 12 15 \n",
    "10 40 70 80 50 20 30 60 90 \n"
   ]
  },
  {
   "cell_type": "code",
   "execution_count": 1,
   "id": "b14fa060",
   "metadata": {},
   "outputs": [
    {
     "name": "stdout",
     "output_type": "stream",
     "text": [
      "\n"
     ]
    },
    {
     "ename": "ValueError",
     "evalue": "invalid literal for int() with base 10: ''",
     "output_type": "error",
     "traceback": [
      "\u001b[1;31m---------------------------------------------------------------------------\u001b[0m",
      "\u001b[1;31mValueError\u001b[0m                                Traceback (most recent call last)",
      "\u001b[1;32m~\\AppData\\Local\\Temp\\ipykernel_25356\\1993391107.py\u001b[0m in \u001b[0;36m<module>\u001b[1;34m\u001b[0m\n\u001b[0;32m      8\u001b[0m             \u001b[0mprint\u001b[0m\u001b[1;33m(\u001b[0m\u001b[0ma\u001b[0m\u001b[1;33m[\u001b[0m\u001b[0mj\u001b[0m\u001b[1;33m]\u001b[0m\u001b[1;33m[\u001b[0m\u001b[0mi\u001b[0m\u001b[1;33m]\u001b[0m\u001b[1;33m,\u001b[0m \u001b[0mend\u001b[0m\u001b[1;33m=\u001b[0m\u001b[1;34m' '\u001b[0m\u001b[1;33m)\u001b[0m\u001b[1;33m\u001b[0m\u001b[1;33m\u001b[0m\u001b[0m\n\u001b[0;32m      9\u001b[0m \u001b[1;33m\u001b[0m\u001b[0m\n\u001b[1;32m---> 10\u001b[1;33m \u001b[1;32mfor\u001b[0m \u001b[0mt\u001b[0m \u001b[1;32min\u001b[0m \u001b[0mrange\u001b[0m\u001b[1;33m(\u001b[0m\u001b[0mint\u001b[0m\u001b[1;33m(\u001b[0m\u001b[0minput\u001b[0m\u001b[1;33m(\u001b[0m\u001b[1;33m)\u001b[0m\u001b[1;33m)\u001b[0m\u001b[1;33m)\u001b[0m\u001b[1;33m:\u001b[0m\u001b[1;33m\u001b[0m\u001b[1;33m\u001b[0m\u001b[0m\n\u001b[0m\u001b[0;32m     11\u001b[0m     \u001b[0msizes\u001b[0m \u001b[1;33m=\u001b[0m \u001b[0minput\u001b[0m\u001b[1;33m(\u001b[0m\u001b[1;33m)\u001b[0m\u001b[1;33m.\u001b[0m\u001b[0msplit\u001b[0m\u001b[1;33m(\u001b[0m\u001b[1;33m)\u001b[0m\u001b[1;33m\u001b[0m\u001b[1;33m\u001b[0m\u001b[0m\n\u001b[0;32m     12\u001b[0m     \u001b[0mm\u001b[0m \u001b[1;33m=\u001b[0m \u001b[0mint\u001b[0m\u001b[1;33m(\u001b[0m\u001b[0msizes\u001b[0m\u001b[1;33m[\u001b[0m\u001b[1;36m0\u001b[0m\u001b[1;33m]\u001b[0m\u001b[1;33m)\u001b[0m\u001b[1;33m\u001b[0m\u001b[1;33m\u001b[0m\u001b[0m\n",
      "\u001b[1;31mValueError\u001b[0m: invalid literal for int() with base 10: ''"
     ]
    }
   ],
   "source": [
    "def print_wave(a):\n",
    "    m = len(a)\n",
    "    if m == 0:\n",
    "        return\n",
    "    n = len(a[0])\n",
    "    for i in range(n):\n",
    "        for j in range(m):\n",
    "            print(a[j][i], end=' ')\n",
    "        \n",
    "for t in range(int(input())):\n",
    "    sizes = input().split()\n",
    "    m = int(sizes[0])\n",
    "    n = int(sizes[1])\n",
    "    l = []\n",
    "    for i in range(m):\n",
    "        next_row = [int(i) for i in input().split()]\n",
    "        l.append(next_row)\n",
    "    print_wave(l)"
   ]
  },
  {
   "cell_type": "code",
   "execution_count": null,
   "id": "7ddf5546",
   "metadata": {},
   "outputs": [],
   "source": []
  },
  {
   "cell_type": "code",
   "execution_count": null,
   "id": "e33c03c3",
   "metadata": {},
   "outputs": [],
   "source": []
  },
  {
   "cell_type": "code",
   "execution_count": null,
   "id": "6abcb21f",
   "metadata": {},
   "outputs": [],
   "source": []
  },
  {
   "cell_type": "code",
   "execution_count": null,
   "id": "32c34503",
   "metadata": {},
   "outputs": [],
   "source": []
  }
 ],
 "metadata": {
  "kernelspec": {
   "display_name": "Python 3 (ipykernel)",
   "language": "python",
   "name": "python3"
  },
  "language_info": {
   "codemirror_mode": {
    "name": "ipython",
    "version": 3
   },
   "file_extension": ".py",
   "mimetype": "text/x-python",
   "name": "python",
   "nbconvert_exporter": "python",
   "pygments_lexer": "ipython3",
   "version": "3.9.13"
  }
 },
 "nbformat": 4,
 "nbformat_minor": 5
}
