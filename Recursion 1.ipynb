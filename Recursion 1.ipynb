{
 "cells": [
  {
   "cell_type": "code",
   "execution_count": 1,
   "id": "198a79d1",
   "metadata": {},
   "outputs": [],
   "source": [
    "def power(x, n):\n",
    "    if n==0:\n",
    "        return 1\n",
    "    return x*power(x, n-1)\n"
   ]
  },
  {
   "cell_type": "code",
   "execution_count": 2,
   "id": "5c9986b7",
   "metadata": {},
   "outputs": [
    {
     "name": "stdout",
     "output_type": "stream",
     "text": [
      "2\n",
      "4\n",
      "16\n"
     ]
    }
   ],
   "source": [
    "x = int(input())\n",
    "n = int(input())\n",
    "print(power(x, n))"
   ]
  },
  {
   "cell_type": "code",
   "execution_count": 2,
   "id": "e7841326",
   "metadata": {},
   "outputs": [],
   "source": [
    "def fib(n):\n",
    "    if n == 1 or n == 2:\n",
    "        return 1\n",
    "    return fib(n-1) + fib(n-2)"
   ]
  },
  {
   "cell_type": "markdown",
   "id": "8473deb8",
   "metadata": {},
   "source": [
    "If we want to increase the recursion limit the we import the library called sys."
   ]
  },
  {
   "cell_type": "code",
   "execution_count": 1,
   "id": "5e03552b",
   "metadata": {},
   "outputs": [],
   "source": [
    "import sys\n",
    "sys.setrecursionlimit(3000)"
   ]
  },
  {
   "cell_type": "code",
   "execution_count": 3,
   "id": "977171b9",
   "metadata": {},
   "outputs": [
    {
     "ename": "NameError",
     "evalue": "name 'fib' is not defined",
     "output_type": "error",
     "traceback": [
      "\u001b[1;31m---------------------------------------------------------------------------\u001b[0m",
      "\u001b[1;31mNameError\u001b[0m                                 Traceback (most recent call last)",
      "\u001b[1;32m~\\AppData\\Local\\Temp\\ipykernel_27512\\3813824289.py\u001b[0m in \u001b[0;36m<module>\u001b[1;34m\u001b[0m\n\u001b[1;32m----> 1\u001b[1;33m \u001b[0mfib\u001b[0m\u001b[1;33m(\u001b[0m\u001b[1;36m2000\u001b[0m\u001b[1;33m)\u001b[0m\u001b[1;33m\u001b[0m\u001b[1;33m\u001b[0m\u001b[0m\n\u001b[0m",
      "\u001b[1;31mNameError\u001b[0m: name 'fib' is not defined"
     ]
    }
   ],
   "source": [
    "fib(2000)"
   ]
  },
  {
   "cell_type": "markdown",
   "id": "d56f14e2",
   "metadata": {},
   "source": [
    "### Program to check whether a list is sorted or not using Recursion."
   ]
  },
  {
   "cell_type": "code",
   "execution_count": 12,
   "id": "64c7820b",
   "metadata": {},
   "outputs": [],
   "source": [
    "def isSorted(a):\n",
    "    l = len(a)\n",
    "    if l==0 or l==1:\n",
    "        return True\n",
    "    if a[0] > a[1]:\n",
    "        return False\n",
    "    smallerList = a[1:]\n",
    "    return isSorted(smallerList)\n",
    "    "
   ]
  },
  {
   "cell_type": "code",
   "execution_count": 16,
   "id": "3e27d0b7",
   "metadata": {},
   "outputs": [],
   "source": [
    "def isSortedBetter(a, si):\n",
    "    l = len(a)\n",
    "    if si == l-1 or si == l:\n",
    "        return True\n",
    "    if a[si] > a[si+1]:\n",
    "        return False\n",
    "    return isSortedBetter(a, si+1)"
   ]
  },
  {
   "cell_type": "code",
   "execution_count": 17,
   "id": "b1437926",
   "metadata": {},
   "outputs": [
    {
     "data": {
      "text/plain": [
       "False"
      ]
     },
     "execution_count": 17,
     "metadata": {},
     "output_type": "execute_result"
    }
   ],
   "source": [
    "a = [1, 2, 3, 40, 5]\n",
    "isSorted(a)\n",
    "isSortedBetter(a, 0)"
   ]
  },
  {
   "cell_type": "markdown",
   "id": "1f55ff5d",
   "metadata": {},
   "source": [
    "### Sum Of Array"
   ]
  },
  {
   "cell_type": "code",
   "execution_count": 1,
   "id": "913dea11",
   "metadata": {},
   "outputs": [],
   "source": [
    "def sumOfArray(a):\n",
    "    l = len(a)\n",
    "    sum = 0\n",
    "    if l==0:\n",
    "        sum = 0\n",
    "        return sum\n",
    "\n",
    "    smallerList = sumOfArray(a[1:])\n",
    "    sum = sum + a[0] + smallerList\n",
    "    return sum"
   ]
  },
  {
   "cell_type": "code",
   "execution_count": 4,
   "id": "203dbe24",
   "metadata": {},
   "outputs": [
    {
     "data": {
      "text/plain": [
       "7"
      ]
     },
     "execution_count": 4,
     "metadata": {},
     "output_type": "execute_result"
    }
   ],
   "source": [
    "a = [4, 2, 1]\n",
    "sumOfArray(a)"
   ]
  },
  {
   "cell_type": "markdown",
   "id": "c25a724a",
   "metadata": {},
   "source": [
    " ### Check Number in Array"
   ]
  },
  {
   "cell_type": "code",
   "execution_count": 7,
   "id": "60378cb2",
   "metadata": {},
   "outputs": [],
   "source": [
    "def checkNumber(a, num):\n",
    "    l = len(a)\n",
    "    if l==0:\n",
    "        return False\n",
    "    if a[0]==num:\n",
    "        return True\n",
    "    smallerList = checkNumber(a[1:], num)\n",
    "    return smallerList\n",
    "    "
   ]
  },
  {
   "cell_type": "code",
   "execution_count": 10,
   "id": "4df84770",
   "metadata": {},
   "outputs": [
    {
     "data": {
      "text/plain": [
       "False"
      ]
     },
     "execution_count": 10,
     "metadata": {},
     "output_type": "execute_result"
    }
   ],
   "source": [
    "a = [9, 8, 10]\n",
    "num = 7\n",
    "checkNumber(a, num)"
   ]
  },
  {
   "cell_type": "markdown",
   "id": "6c38e41c",
   "metadata": {},
   "source": [
    " ### First Index "
   ]
  },
  {
   "cell_type": "code",
   "execution_count": 5,
   "id": "20c15bb7",
   "metadata": {},
   "outputs": [],
   "source": [
    "def firstIndex(a, x, si):\n",
    "    l = len(a)\n",
    "    if si==l:\n",
    "        return -1\n",
    "    if a[si]==x:\n",
    "        return si\n",
    "    smallerList = firstIndex(a, x, si+1)\n",
    "    return smallerList"
   ]
  },
  {
   "cell_type": "code",
   "execution_count": 6,
   "id": "534b7cd2",
   "metadata": {},
   "outputs": [
    {
     "data": {
      "text/plain": [
       "-1"
      ]
     },
     "execution_count": 6,
     "metadata": {},
     "output_type": "execute_result"
    }
   ],
   "source": [
    "a = [9, 8, 10, 8]\n",
    "x=7\n",
    "firstIndex(a, x, 0)"
   ]
  },
  {
   "cell_type": "markdown",
   "id": "3f7b3ca5",
   "metadata": {},
   "source": [
    "### Last Index"
   ]
  },
  {
   "cell_type": "code",
   "execution_count": 9,
   "id": "f1b181ce",
   "metadata": {},
   "outputs": [],
   "source": [
    "def lastIndex(a, x):\n",
    "    l = len(a)\n",
    "    if l==0:\n",
    "        return -1\n",
    "    smallerList = lastIndex(a[1:], x)\n",
    "    if smallerList != -1:\n",
    "        return smallerList + 1\n",
    "    else: \n",
    "        if a[0] == x:\n",
    "            return 0\n",
    "        else:\n",
    "            return -1"
   ]
  },
  {
   "cell_type": "code",
   "execution_count": 10,
   "id": "7173c07d",
   "metadata": {},
   "outputs": [
    {
     "data": {
      "text/plain": [
       "3"
      ]
     },
     "execution_count": 10,
     "metadata": {},
     "output_type": "execute_result"
    }
   ],
   "source": [
    "a = [9, 8, 10, 8]\n",
    "x=8\n",
    "lastIndex(a, x)"
   ]
  },
  {
   "cell_type": "code",
   "execution_count": null,
   "id": "ed6ca7f7",
   "metadata": {},
   "outputs": [],
   "source": []
  }
 ],
 "metadata": {
  "kernelspec": {
   "display_name": "Python 3 (ipykernel)",
   "language": "python",
   "name": "python3"
  },
  "language_info": {
   "codemirror_mode": {
    "name": "ipython",
    "version": 3
   },
   "file_extension": ".py",
   "mimetype": "text/x-python",
   "name": "python",
   "nbconvert_exporter": "python",
   "pygments_lexer": "ipython3",
   "version": "3.9.13"
  }
 },
 "nbformat": 4,
 "nbformat_minor": 5
}
